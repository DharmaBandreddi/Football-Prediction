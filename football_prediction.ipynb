{
  "cells": [
    {
      "cell_type": "code",
      "execution_count": 53,
      "metadata": {
        "id": "EDeJex3c1fmx"
      },
      "outputs": [],
      "source": [
        "# importing nacessary libraries\n",
        "import sqlite3\n",
        "import pandas as pd\n",
        "import seaborn as sns\n",
        "import matplotlib.pyplot as plt\n",
        "import numpy as np\n",
        "%matplotlib inline\n",
        "pd.set_option('display.max_columns', None)\n",
        "pd.set_option('display.max_rows', None)"
      ]
    },
    {
      "cell_type": "code",
      "execution_count": 54,
      "metadata": {
        "id": "LsNtk3LE13Bj"
      },
      "outputs": [],
      "source": [
        "# reading the .pkl file which containes the list of features required\n",
        "df = pd.read_pickle(\"merged_all_table.csv.pkl\", compression='bz2')"
      ]
    },
    {
      "cell_type": "code",
      "execution_count": 55,
      "metadata": {},
      "outputs": [
        {
          "data": {
            "text/plain": [
              "(25979, 115)"
            ]
          },
          "execution_count": 55,
          "metadata": {},
          "output_type": "execute_result"
        }
      ],
      "source": [
        "# checking the shape of the data\n",
        "df.shape"
      ]
    },
    {
      "cell_type": "code",
      "execution_count": 56,
      "metadata": {},
      "outputs": [
        {
          "data": {
            "text/plain": [
              "season                  0\n",
              "stage                   0\n",
              "date                    0\n",
              "match_api_id            0\n",
              "home_team_api_id        0\n",
              "away_team_api_id        0\n",
              "home_player_X1       1821\n",
              "home_player_X2       1821\n",
              "home_player_X3       1832\n",
              "home_player_X4       1832\n",
              "home_player_X5       1832\n",
              "home_player_X6       1832\n",
              "home_player_X7       1832\n",
              "home_player_X8       1832\n",
              "home_player_X9       1832\n",
              "home_player_X10      1832\n",
              "home_player_X11      1832\n",
              "away_player_X1       1832\n",
              "away_player_X2       1832\n",
              "away_player_X3       1832\n",
              "away_player_X4       1832\n",
              "away_player_X5       1832\n",
              "away_player_X6       1832\n",
              "away_player_X7       1832\n",
              "away_player_X8       1832\n",
              "away_player_X9       1833\n",
              "away_player_X10      1833\n",
              "away_player_X11      1839\n",
              "home_player_Y1       1821\n",
              "home_player_Y2       1821\n",
              "home_player_Y3       1832\n",
              "home_player_Y4       1832\n",
              "home_player_Y5       1832\n",
              "home_player_Y6       1832\n",
              "home_player_Y7       1832\n",
              "home_player_Y8       1832\n",
              "home_player_Y9       1832\n",
              "home_player_Y10      1832\n",
              "home_player_Y11      1832\n",
              "away_player_Y1       1832\n",
              "away_player_Y2       1832\n",
              "away_player_Y3       1832\n",
              "away_player_Y4       1832\n",
              "away_player_Y5       1832\n",
              "away_player_Y6       1832\n",
              "away_player_Y7       1832\n",
              "away_player_Y8       1832\n",
              "away_player_Y9       1833\n",
              "away_player_Y10      1833\n",
              "away_player_Y11      1839\n",
              "goal                11762\n",
              "shoton              11762\n",
              "shotoff             11762\n",
              "foulcommit          11762\n",
              "card                11762\n",
              "cross               11762\n",
              "corner              11762\n",
              "possession          11762\n",
              "B365H                3387\n",
              "B365D                3387\n",
              "B365A                3387\n",
              "BWH                  3404\n",
              "BWD                  3404\n",
              "BWA                  3404\n",
              "IWH                  3459\n",
              "IWD                  3459\n",
              "IWA                  3459\n",
              "LBH                  3423\n",
              "LBD                  3423\n",
              "LBA                  3423\n",
              "PSH                 14811\n",
              "PSD                 14811\n",
              "PSA                 14811\n",
              "WHH                  3408\n",
              "WHD                  3408\n",
              "WHA                  3408\n",
              "SJH                  8882\n",
              "SJD                  8882\n",
              "SJA                  8882\n",
              "VCH                  3411\n",
              "VCD                  3411\n",
              "VCA                  3411\n",
              "GBH                 11817\n",
              "GBD                 11817\n",
              "GBA                 11817\n",
              "BSH                 11818\n",
              "BSD                 11818\n",
              "BSA                 11818\n",
              "league_name             0\n",
              "country_name            0\n",
              "home_total_goal         0\n",
              "away_total_goal         0\n",
              "home_player_1        1224\n",
              "home_player_2        1315\n",
              "home_player_3        1281\n",
              "home_player_4        1323\n",
              "home_player_5        1316\n",
              "home_player_6        1325\n",
              "home_player_7        1227\n",
              "home_player_8        1309\n",
              "home_player_9        1273\n",
              "home_player_10       1436\n",
              "home_player_11       1555\n",
              "away_player_1        1234\n",
              "away_player_2        1278\n",
              "away_player_3        1293\n",
              "away_player_4        1321\n",
              "away_player_5        1335\n",
              "away_player_6        1313\n",
              "away_player_7        1235\n",
              "away_player_8        1341\n",
              "away_player_9        1328\n",
              "away_player_10       1441\n",
              "away_player_11       1554\n",
              "target                  0\n",
              "dtype: int64"
            ]
          },
          "execution_count": 56,
          "metadata": {},
          "output_type": "execute_result"
        }
      ],
      "source": [
        "# checking for null values\n",
        "df.isna().sum()"
      ]
    },
    {
      "attachments": {},
      "cell_type": "markdown",
      "metadata": {},
      "source": [
        "# Preprocessing"
      ]
    },
    {
      "cell_type": "code",
      "execution_count": 57,
      "metadata": {
        "id": "Gd7pi1zi-0Em"
      },
      "outputs": [],
      "source": [
        "# creating a deep copy of match \n",
        "match_df = df.copy()"
      ]
    },
    {
      "cell_type": "code",
      "execution_count": 58,
      "metadata": {
        "id": "hOpT3jep_iCS"
      },
      "outputs": [],
      "source": [
        "#droping some columns\n",
        "cols_to_drop =['match_api_id' ,'home_team_api_id' ,'away_team_api_id','PSH', 'PSD', 'PSA','GBH', 'GBD', 'GBA','BSH', 'BSD', 'BSA','home_player_X1' ,'home_player_X2' ,'home_player_X3' ,'home_player_X4' ,'home_player_X5' ,'home_player_X6' ,\n",
        "               'home_player_X7' ,'home_player_X8' ,'home_player_X9' ,'home_player_X10' ,'home_player_X11' ,'away_player_X1' ,'away_player_X2' ,\n",
        "               'away_player_X3' ,'away_player_X4' ,'away_player_X5' ,'away_player_X6' ,'away_player_X7' ,'away_player_X8' ,'away_player_X9' ,\n",
        "               'away_player_X10' ,'away_player_X11' ,'home_player_Y1' ,'home_player_Y2' ,'home_player_Y3' ,'home_player_Y4' ,'home_player_Y5' ,\n",
        "               'home_player_Y6' ,'home_player_Y7' ,'home_player_Y8' ,'home_player_Y9' ,'home_player_Y10' ,'home_player_Y11' ,'away_player_Y1' ,\n",
        "               'away_player_Y2' ,'away_player_Y3' ,'away_player_Y4' ,'away_player_Y5' ,'away_player_Y6' ,'away_player_Y7' ,'away_player_Y8' ,\n",
        "               'away_player_Y9' ,'away_player_Y10' ,'away_player_Y11' ,'goal' ,'shoton' ,'shotoff' ,'foulcommit' ,'card' ,'cross' ,'corner' ,\n",
        "               'possession','season', 'stage', 'date','country_name', 'league_name','season','stage','date',\"goal\", \"shoton\", \"shotoff\", \"foulcommit\", \"card\", \"cross\", \"corner\", \"possession\"]\n",
        "match_df.drop(columns=cols_to_drop, inplace = True)"
      ]
    },
    {
      "cell_type": "code",
      "execution_count": 59,
      "metadata": {
        "id": "ZVXJMRhuA5fw"
      },
      "outputs": [
        {
          "data": {
            "text/plain": [
              "(25979, 46)"
            ]
          },
          "execution_count": 59,
          "metadata": {},
          "output_type": "execute_result"
        }
      ],
      "source": [
        "# shape after dropping columns\n",
        "match_df.shape"
      ]
    },
    {
      "cell_type": "code",
      "execution_count": 60,
      "metadata": {},
      "outputs": [],
      "source": [
        "# creating input and output for the model\n",
        "X = match_df.drop(columns=['target'])\n",
        "y= match_df[['target']]"
      ]
    },
    {
      "cell_type": "code",
      "execution_count": 61,
      "metadata": {},
      "outputs": [
        {
          "data": {
            "text/plain": [
              "(25979, 45)"
            ]
          },
          "execution_count": 61,
          "metadata": {},
          "output_type": "execute_result"
        }
      ],
      "source": [
        "# input shape\n",
        "X.shape"
      ]
    },
    {
      "cell_type": "code",
      "execution_count": 62,
      "metadata": {},
      "outputs": [
        {
          "data": {
            "text/plain": [
              "B365H              float64\n",
              "B365D              float64\n",
              "B365A              float64\n",
              "BWH                float64\n",
              "BWD                float64\n",
              "BWA                float64\n",
              "IWH                float64\n",
              "IWD                float64\n",
              "IWA                float64\n",
              "LBH                float64\n",
              "LBD                float64\n",
              "LBA                float64\n",
              "WHH                float64\n",
              "WHD                float64\n",
              "WHA                float64\n",
              "SJH                float64\n",
              "SJD                float64\n",
              "SJA                float64\n",
              "VCH                float64\n",
              "VCD                float64\n",
              "VCA                float64\n",
              "home_total_goal      int64\n",
              "away_total_goal      int64\n",
              "home_player_1      float64\n",
              "home_player_2      float64\n",
              "home_player_3      float64\n",
              "home_player_4      float64\n",
              "home_player_5      float64\n",
              "home_player_6      float64\n",
              "home_player_7      float64\n",
              "home_player_8      float64\n",
              "home_player_9      float64\n",
              "home_player_10     float64\n",
              "home_player_11     float64\n",
              "away_player_1      float64\n",
              "away_player_2      float64\n",
              "away_player_3      float64\n",
              "away_player_4      float64\n",
              "away_player_5      float64\n",
              "away_player_6      float64\n",
              "away_player_7      float64\n",
              "away_player_8      float64\n",
              "away_player_9      float64\n",
              "away_player_10     float64\n",
              "away_player_11     float64\n",
              "dtype: object"
            ]
          },
          "execution_count": 62,
          "metadata": {},
          "output_type": "execute_result"
        }
      ],
      "source": [
        "# checking for data types\n",
        "X.dtypes"
      ]
    },
    {
      "cell_type": "code",
      "execution_count": 63,
      "metadata": {},
      "outputs": [],
      "source": [
        "# handling missing values\n",
        "from sklearn.impute import SimpleImputer\n",
        "from sklearn.preprocessing import StandardScaler\n",
        "from sklearn.preprocessing import LabelEncoder\n",
        "\n",
        "# Perform missing value imputation using 'mean' strategy for numeric columns\n",
        "numeric_imputer = SimpleImputer(strategy='mean')\n",
        "X = numeric_imputer.fit_transform(X)\n",
        "sc = StandardScaler()\n",
        "X_preprocess = sc.fit_transform(X)\n",
        "le = LabelEncoder()\n",
        "y_le_encoded = le.fit_transform(y)"
      ]
    },
    {
      "cell_type": "code",
      "execution_count": 64,
      "metadata": {},
      "outputs": [],
      "source": [
        "from sklearn.model_selection import cross_val_score\n",
        "from sklearn.metrics import confusion_matrix, f1_score, precision_score, recall_score\n",
        "from sklearn.linear_model import LogisticRegression\n",
        "from sklearn.tree import DecisionTreeClassifier\n",
        "from sklearn.ensemble import RandomForestClassifier\n",
        "from sklearn.naive_bayes import GaussianNB\n",
        "from sklearn.svm import SVC\n",
        "import xgboost as xgb\n",
        "from lightgbm import LGBMClassifier\n",
        "import warnings\n",
        "warnings.filterwarnings('ignore')"
      ]
    },
    {
      "cell_type": "code",
      "execution_count": 65,
      "metadata": {},
      "outputs": [
        {
          "name": "stdout",
          "output_type": "stream",
          "text": [
            "Classifier: LogisticRegression\n",
            "Accuracy: 0.5305051935263745\n",
            "\n",
            "Classifier: DecisionTreeClassifier\n",
            "Accuracy: 0.4066746612667922\n",
            "\n",
            "Classifier: GaussianNB\n",
            "Accuracy: 0.41013859776640205\n",
            "\n",
            "Classifier: SVC\n",
            "Accuracy: 0.5313905417730822\n",
            "\n",
            "Classifier: RandomForestClassifier\n",
            "Accuracy: 0.5061010431508357\n",
            "\n",
            "Classifier: XGBClassifier\n",
            "Accuracy: 0.4955157776656508\n",
            "\n",
            "Classifier: LGBMClassifier\n",
            "Accuracy: 0.5135301901736806\n",
            "\n"
          ]
        }
      ],
      "source": [
        "# Define the classifiers\n",
        "classifiers = [\n",
        "    LogisticRegression(),\n",
        "    DecisionTreeClassifier(),\n",
        "    GaussianNB(),\n",
        "    SVC(),\n",
        "    RandomForestClassifier(),\n",
        "    xgb.XGBClassifier(),\n",
        "    LGBMClassifier()\n",
        "]\n",
        "# Loop through each classifier and compute the accuracy\n",
        "for classifier in classifiers:\n",
        "    scores = cross_val_score(classifier,X_preprocess, y_le_encoded, cv=5)\n",
        "    avg_accuracy = scores.mean()\n",
        "    print(f\"Classifier: {classifier.__class__.__name__}\")\n",
        "    print(f\"Accuracy: {avg_accuracy}\\n\")"
      ]
    },
    {
      "cell_type": "code",
      "execution_count": 66,
      "metadata": {},
      "outputs": [],
      "source": [
        "# only bets features\n",
        "# Classifier: LogisticRegression\n",
        "# Accuracy: 0.5200735666215441\n",
        "\n",
        "# added 'country_id' ,'league_id' ,'season' ,'stage' with bets\n",
        "# Classifier: LogisticRegression\n",
        "# Accuracy: 0.4584877313636536"
      ]
    },
    {
      "attachments": {},
      "cell_type": "markdown",
      "metadata": {},
      "source": [
        "## Checking LGBM"
      ]
    },
    {
      "cell_type": "code",
      "execution_count": 67,
      "metadata": {},
      "outputs": [],
      "source": [
        "# splitting the data into train and test\n",
        "from sklearn.model_selection import train_test_split\n",
        "X_train, X_test, y_train, y_test = train_test_split(X_preprocess,y_le_encoded, stratify=y_le_encoded, test_size=0.3, random_state=42)"
      ]
    },
    {
      "cell_type": "code",
      "execution_count": 68,
      "metadata": {},
      "outputs": [
        {
          "data": {
            "text/html": [
              "<style>#sk-container-id-3 {color: black;background-color: white;}#sk-container-id-3 pre{padding: 0;}#sk-container-id-3 div.sk-toggleable {background-color: white;}#sk-container-id-3 label.sk-toggleable__label {cursor: pointer;display: block;width: 100%;margin-bottom: 0;padding: 0.3em;box-sizing: border-box;text-align: center;}#sk-container-id-3 label.sk-toggleable__label-arrow:before {content: \"▸\";float: left;margin-right: 0.25em;color: #696969;}#sk-container-id-3 label.sk-toggleable__label-arrow:hover:before {color: black;}#sk-container-id-3 div.sk-estimator:hover label.sk-toggleable__label-arrow:before {color: black;}#sk-container-id-3 div.sk-toggleable__content {max-height: 0;max-width: 0;overflow: hidden;text-align: left;background-color: #f0f8ff;}#sk-container-id-3 div.sk-toggleable__content pre {margin: 0.2em;color: black;border-radius: 0.25em;background-color: #f0f8ff;}#sk-container-id-3 input.sk-toggleable__control:checked~div.sk-toggleable__content {max-height: 200px;max-width: 100%;overflow: auto;}#sk-container-id-3 input.sk-toggleable__control:checked~label.sk-toggleable__label-arrow:before {content: \"▾\";}#sk-container-id-3 div.sk-estimator input.sk-toggleable__control:checked~label.sk-toggleable__label {background-color: #d4ebff;}#sk-container-id-3 div.sk-label input.sk-toggleable__control:checked~label.sk-toggleable__label {background-color: #d4ebff;}#sk-container-id-3 input.sk-hidden--visually {border: 0;clip: rect(1px 1px 1px 1px);clip: rect(1px, 1px, 1px, 1px);height: 1px;margin: -1px;overflow: hidden;padding: 0;position: absolute;width: 1px;}#sk-container-id-3 div.sk-estimator {font-family: monospace;background-color: #f0f8ff;border: 1px dotted black;border-radius: 0.25em;box-sizing: border-box;margin-bottom: 0.5em;}#sk-container-id-3 div.sk-estimator:hover {background-color: #d4ebff;}#sk-container-id-3 div.sk-parallel-item::after {content: \"\";width: 100%;border-bottom: 1px solid gray;flex-grow: 1;}#sk-container-id-3 div.sk-label:hover label.sk-toggleable__label {background-color: #d4ebff;}#sk-container-id-3 div.sk-serial::before {content: \"\";position: absolute;border-left: 1px solid gray;box-sizing: border-box;top: 0;bottom: 0;left: 50%;z-index: 0;}#sk-container-id-3 div.sk-serial {display: flex;flex-direction: column;align-items: center;background-color: white;padding-right: 0.2em;padding-left: 0.2em;position: relative;}#sk-container-id-3 div.sk-item {position: relative;z-index: 1;}#sk-container-id-3 div.sk-parallel {display: flex;align-items: stretch;justify-content: center;background-color: white;position: relative;}#sk-container-id-3 div.sk-item::before, #sk-container-id-3 div.sk-parallel-item::before {content: \"\";position: absolute;border-left: 1px solid gray;box-sizing: border-box;top: 0;bottom: 0;left: 50%;z-index: -1;}#sk-container-id-3 div.sk-parallel-item {display: flex;flex-direction: column;z-index: 1;position: relative;background-color: white;}#sk-container-id-3 div.sk-parallel-item:first-child::after {align-self: flex-end;width: 50%;}#sk-container-id-3 div.sk-parallel-item:last-child::after {align-self: flex-start;width: 50%;}#sk-container-id-3 div.sk-parallel-item:only-child::after {width: 0;}#sk-container-id-3 div.sk-dashed-wrapped {border: 1px dashed gray;margin: 0 0.4em 0.5em 0.4em;box-sizing: border-box;padding-bottom: 0.4em;background-color: white;}#sk-container-id-3 div.sk-label label {font-family: monospace;font-weight: bold;display: inline-block;line-height: 1.2em;}#sk-container-id-3 div.sk-label-container {text-align: center;}#sk-container-id-3 div.sk-container {/* jupyter's `normalize.less` sets `[hidden] { display: none; }` but bootstrap.min.css set `[hidden] { display: none !important; }` so we also need the `!important` here to be able to override the default hidden behavior on the sphinx rendered scikit-learn.org. See: https://github.com/scikit-learn/scikit-learn/issues/21755 */display: inline-block !important;position: relative;}#sk-container-id-3 div.sk-text-repr-fallback {display: none;}</style><div id=\"sk-container-id-3\" class=\"sk-top-container\"><div class=\"sk-text-repr-fallback\"><pre>LGBMClassifier()</pre><b>In a Jupyter environment, please rerun this cell to show the HTML representation or trust the notebook. <br />On GitHub, the HTML representation is unable to render, please try loading this page with nbviewer.org.</b></div><div class=\"sk-container\" hidden><div class=\"sk-item\"><div class=\"sk-estimator sk-toggleable\"><input class=\"sk-toggleable__control sk-hidden--visually\" id=\"sk-estimator-id-3\" type=\"checkbox\" checked><label for=\"sk-estimator-id-3\" class=\"sk-toggleable__label sk-toggleable__label-arrow\">LGBMClassifier</label><div class=\"sk-toggleable__content\"><pre>LGBMClassifier()</pre></div></div></div></div></div>"
            ],
            "text/plain": [
              "LGBMClassifier()"
            ]
          },
          "execution_count": 68,
          "metadata": {},
          "output_type": "execute_result"
        }
      ],
      "source": [
        "# defining the LGBM model\n",
        "lgbm_classifier = LGBMClassifier()\n",
        "\n",
        "lgbm_classifier.fit(X_train, y_train)"
      ]
    },
    {
      "cell_type": "code",
      "execution_count": 69,
      "metadata": {},
      "outputs": [],
      "source": [
        "# predicting using LGBM model\n",
        "y_pred = lgbm_classifier.predict(X_test)"
      ]
    },
    {
      "cell_type": "code",
      "execution_count": 70,
      "metadata": {},
      "outputs": [
        {
          "data": {
            "text/plain": [
              "0.5220682576340775"
            ]
          },
          "execution_count": 70,
          "metadata": {},
          "output_type": "execute_result"
        }
      ],
      "source": [
        "# checking for the accuracy\n",
        "lgbm_classifier.score(X_test,y_test)"
      ]
    },
    {
      "cell_type": "code",
      "execution_count": 71,
      "metadata": {},
      "outputs": [
        {
          "data": {
            "image/png": "[encoded data removed]",
            "text/plain": [
              "<Figure size 640x480 with 2 Axes>"
            ]
          },
          "metadata": {},
          "output_type": "display_data"
        }
      ],
      "source": [
        "# Plot confusion matrix\n",
        "cm = confusion_matrix(y_test, y_pred)\n",
        "sns.heatmap(cm, annot=True, fmt='d', cmap='Blues')\n",
        "plt.xlabel('Predicted')\n",
        "plt.ylabel('Actual')\n",
        "plt.title('Confusion Matrix')\n",
        "plt.show()"
      ]
    },
    {
      "cell_type": "code",
      "execution_count": 72,
      "metadata": {},
      "outputs": [
        {
          "name": "stdout",
          "output_type": "stream",
          "text": [
            "F1 Score: 0.46462614976026523\n",
            "Precision: 0.47038902116505715\n",
            "Recall: 0.5220682576340775\n"
          ]
        }
      ],
      "source": [
        "# Calculate F1 score\n",
        "f1 = f1_score(y_test, y_pred, average='weighted')\n",
        "# Calculate precision\n",
        "precision = precision_score(y_test, y_pred, average='weighted')\n",
        "# Calculate recall\n",
        "recall = recall_score(y_test, y_pred, average='weighted')\n",
        "\n",
        "print(\"F1 Score:\", f1)\n",
        "print(\"Precision:\", precision)\n",
        "print(\"Recall:\", recall)"
      ]
    },
    {
      "attachments": {},
      "cell_type": "markdown",
      "metadata": {},
      "source": [
        "## Checking Random Forest"
      ]
    },
    {
      "cell_type": "code",
      "execution_count": 73,
      "metadata": {},
      "outputs": [
        {
          "data": {
            "text/html": [
              "<style>#sk-container-id-4 {color: black;background-color: white;}#sk-container-id-4 pre{padding: 0;}#sk-container-id-4 div.sk-toggleable {background-color: white;}#sk-container-id-4 label.sk-toggleable__label {cursor: pointer;display: block;width: 100%;margin-bottom: 0;padding: 0.3em;box-sizing: border-box;text-align: center;}#sk-container-id-4 label.sk-toggleable__label-arrow:before {content: \"▸\";float: left;margin-right: 0.25em;color: #696969;}#sk-container-id-4 label.sk-toggleable__label-arrow:hover:before {color: black;}#sk-container-id-4 div.sk-estimator:hover label.sk-toggleable__label-arrow:before {color: black;}#sk-container-id-4 div.sk-toggleable__content {max-height: 0;max-width: 0;overflow: hidden;text-align: left;background-color: #f0f8ff;}#sk-container-id-4 div.sk-toggleable__content pre {margin: 0.2em;color: black;border-radius: 0.25em;background-color: #f0f8ff;}#sk-container-id-4 input.sk-toggleable__control:checked~div.sk-toggleable__content {max-height: 200px;max-width: 100%;overflow: auto;}#sk-container-id-4 input.sk-toggleable__control:checked~label.sk-toggleable__label-arrow:before {content: \"▾\";}#sk-container-id-4 div.sk-estimator input.sk-toggleable__control:checked~label.sk-toggleable__label {background-color: #d4ebff;}#sk-container-id-4 div.sk-label input.sk-toggleable__control:checked~label.sk-toggleable__label {background-color: #d4ebff;}#sk-container-id-4 input.sk-hidden--visually {border: 0;clip: rect(1px 1px 1px 1px);clip: rect(1px, 1px, 1px, 1px);height: 1px;margin: -1px;overflow: hidden;padding: 0;position: absolute;width: 1px;}#sk-container-id-4 div.sk-estimator {font-family: monospace;background-color: #f0f8ff;border: 1px dotted black;border-radius: 0.25em;box-sizing: border-box;margin-bottom: 0.5em;}#sk-container-id-4 div.sk-estimator:hover {background-color: #d4ebff;}#sk-container-id-4 div.sk-parallel-item::after {content: \"\";width: 100%;border-bottom: 1px solid gray;flex-grow: 1;}#sk-container-id-4 div.sk-label:hover label.sk-toggleable__label {background-color: #d4ebff;}#sk-container-id-4 div.sk-serial::before {content: \"\";position: absolute;border-left: 1px solid gray;box-sizing: border-box;top: 0;bottom: 0;left: 50%;z-index: 0;}#sk-container-id-4 div.sk-serial {display: flex;flex-direction: column;align-items: center;background-color: white;padding-right: 0.2em;padding-left: 0.2em;position: relative;}#sk-container-id-4 div.sk-item {position: relative;z-index: 1;}#sk-container-id-4 div.sk-parallel {display: flex;align-items: stretch;justify-content: center;background-color: white;position: relative;}#sk-container-id-4 div.sk-item::before, #sk-container-id-4 div.sk-parallel-item::before {content: \"\";position: absolute;border-left: 1px solid gray;box-sizing: border-box;top: 0;bottom: 0;left: 50%;z-index: -1;}#sk-container-id-4 div.sk-parallel-item {display: flex;flex-direction: column;z-index: 1;position: relative;background-color: white;}#sk-container-id-4 div.sk-parallel-item:first-child::after {align-self: flex-end;width: 50%;}#sk-container-id-4 div.sk-parallel-item:last-child::after {align-self: flex-start;width: 50%;}#sk-container-id-4 div.sk-parallel-item:only-child::after {width: 0;}#sk-container-id-4 div.sk-dashed-wrapped {border: 1px dashed gray;margin: 0 0.4em 0.5em 0.4em;box-sizing: border-box;padding-bottom: 0.4em;background-color: white;}#sk-container-id-4 div.sk-label label {font-family: monospace;font-weight: bold;display: inline-block;line-height: 1.2em;}#sk-container-id-4 div.sk-label-container {text-align: center;}#sk-container-id-4 div.sk-container {/* jupyter's `normalize.less` sets `[hidden] { display: none; }` but bootstrap.min.css set `[hidden] { display: none !important; }` so we also need the `!important` here to be able to override the default hidden behavior on the sphinx rendered scikit-learn.org. See: https://github.com/scikit-learn/scikit-learn/issues/21755 */display: inline-block !important;position: relative;}#sk-container-id-4 div.sk-text-repr-fallback {display: none;}</style><div id=\"sk-container-id-4\" class=\"sk-top-container\"><div class=\"sk-text-repr-fallback\"><pre>RandomForestClassifier()</pre><b>In a Jupyter environment, please rerun this cell to show the HTML representation or trust the notebook. <br />On GitHub, the HTML representation is unable to render, please try loading this page with nbviewer.org.</b></div><div class=\"sk-container\" hidden><div class=\"sk-item\"><div class=\"sk-estimator sk-toggleable\"><input class=\"sk-toggleable__control sk-hidden--visually\" id=\"sk-estimator-id-4\" type=\"checkbox\" checked><label for=\"sk-estimator-id-4\" class=\"sk-toggleable__label sk-toggleable__label-arrow\">RandomForestClassifier</label><div class=\"sk-toggleable__content\"><pre>RandomForestClassifier()</pre></div></div></div></div></div>"
            ],
            "text/plain": [
              "RandomForestClassifier()"
            ]
          },
          "execution_count": 73,
          "metadata": {},
          "output_type": "execute_result"
        }
      ],
      "source": [
        "# checking using randomforest\n",
        "rf = RandomForestClassifier()\n",
        "rf.fit(X_train,y_train)"
      ]
    },
    {
      "cell_type": "code",
      "execution_count": 74,
      "metadata": {},
      "outputs": [
        {
          "data": {
            "image/png": "[encoded data removed]",
            "text/plain": [
              "<Figure size 640x480 with 1 Axes>"
            ]
          },
          "metadata": {},
          "output_type": "display_data"
        }
      ],
      "source": [
        "# plotting the important features from the input for better understanding\n",
        "importances= rf.feature_importances_\n",
        "forest_importances = pd.Series(importances, index=(match_df.drop(columns=['target'])).columns)\n",
        "\n",
        "fig, ax = plt.subplots()\n",
        "forest_importances.plot.bar(forest_importances)\n",
        "ax.set_title(\"Feature importances\")\n",
        "ax.set_ylabel(\"FI\")\n",
        "fig.tight_layout()"
      ]
    },
    {
      "attachments": {},
      "cell_type": "markdown",
      "metadata": {},
      "source": [
        "# Test"
      ]
    },
    {
      "cell_type": "code",
      "execution_count": 75,
      "metadata": {},
      "outputs": [],
      "source": [
        "# cols_to_drop = ['id','match_api_id',\n",
        "#                 'home_team_goal','away_team_goal',# removing it because we dont have this data for future matches\n",
        "#                 'home_player_X1','home_player_X2','home_player_X3','home_player_X4','home_player_X5','home_player_X6','home_player_X7','home_player_X8','home_player_X9','home_player_X10','home_player_X11',\n",
        "#                 'away_player_X1','away_player_X2','away_player_X3','away_player_X4','away_player_X5','away_player_X6','away_player_X7','away_player_X8','away_player_X9','away_player_X10','away_player_X11',\n",
        "#                 'home_player_Y1','home_player_Y2','home_player_Y3','home_player_Y4','home_player_Y5','home_player_Y6','home_player_Y7','home_player_Y8','home_player_Y9','home_player_Y10','home_player_Y11',\n",
        "#                 'away_player_Y1','away_player_Y2','away_player_Y3','away_player_Y4','away_player_Y5','away_player_Y6','away_player_Y7','away_player_Y8','away_player_Y9','away_player_Y10','away_player_Y11',\n",
        "#                 'home_player_1','home_player_2','home_player_3','home_player_4','home_player_5','home_player_6','home_player_7','home_player_8','home_player_9','home_player_10','home_player_11',\n",
        "#                 'away_player_1','away_player_2','away_player_3','away_player_4','away_player_5','away_player_6','away_player_7','away_player_8','away_player_9','away_player_10','away_player_11',\n",
        "#                 'goal','shoton','shotoff','foulcommit','card','cross','corner','possession']\n",
        "# # dropping columns\n",
        "# df.drop(cols_to_drop, axis=1, inplace=True)\n",
        "\n",
        "# dropping rows some irrelevant columns\n",
        "# cols_to_drop = ['id','match_api_id','home_team_goal','away_team_goal','date','goal','shoton','shotoff','foulcommit','card','cross','corner','possession']\n",
        "# df.drop(cols_to_drop, axis=1, inplace=True)\n",
        "\n",
        "# # dropping rows with given percentage of null values\n",
        "# threshold_percentage = 0.3\n",
        "# def drop_rows(dfl, percentage):\n",
        "#     k = ((dfl.isna().sum()/dfl.isna().count())<percentage)\n",
        "#     k = k[k==True]\n",
        "#     print(\"selected columns: \\n\", k.index)\n",
        "#     return dfl[k.index]\n",
        "\n",
        "# df = drop_rows(df, threshold_percentage)\n",
        "# print(df.shape)\n",
        "\n",
        "# checking distrimution of betting values\n",
        "# df['B365A'].plot(kind='hist', bins=50, figsize=(10,5), title='B365A')\n",
        "\n",
        "# trying to impute missing bet odd values with both of the same teams pervious matches values\n",
        "# df['matchpair'] = df['home_team_api_id'].astype(str) + df['away_team_api_id'].astype(str)\n",
        "# df[(df.isna()['B365D'] == False)&(df['matchpair']== '84269800')]\n",
        "## not working\n",
        "\n",
        "# # trying to impute missing bet odd values with mean of the corresponing teams pervious matches values\n",
        "# home_team_cols = ['B365H','BWH','IWH','LBH','WHH','SJH','VCH','GBH','BSH']\n",
        "# away_team_cols = ['B365A','BWA','IWA','LBA','WHA','SJA','VCA','GBA','BSA']\n",
        "# draw_cols = ['B365D','BWD','IWD','LBD','WHD','SJD','VCD','GBD','BSD']\n",
        "# df.groupby('home_team_api_id').mean()\n",
        "# # [column_name][htapiid]"
      ]
    }
  ],
  "metadata": {
    "colab": {
      "provenance": []
    },
    "kernelspec": {
      "display_name": "Python 3",
      "name": "python3"
    },
    "language_info": {
      "codemirror_mode": {
        "name": "ipython",
        "version": 3
      },
      "file_extension": ".py",
      "mimetype": "text/x-python",
      "name": "python",
      "nbconvert_exporter": "python",
      "pygments_lexer": "ipython3",
      "version": "3.10.11"
    }
  },
  "nbformat": 4,
  "nbformat_minor": 0
}
