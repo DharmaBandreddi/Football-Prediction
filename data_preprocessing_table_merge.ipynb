{
 "cells": [
  {
   "cell_type": "code",
   "execution_count": 1,
   "metadata": {},
   "outputs": [],
   "source": [
    "import sqlite3\n",
    "import pandas as pd"
   ]
  },
  {
   "cell_type": "code",
   "execution_count": 2,
   "metadata": {},
   "outputs": [],
   "source": [
    "# Created connection.\n",
    "database_path = r\"database.sqlite\"\n",
    "\n",
    "conn = sqlite3.connect(database_path)"
   ]
  },
  {
   "cell_type": "code",
   "execution_count": 3,
   "metadata": {},
   "outputs": [],
   "source": [
    "# Creating dataframes from the tbales\n",
    "\n",
    "df_country = pd.read_sql_query(\"SELECT * FROM country\", conn)\n",
    "df_league = pd.read_sql_query(\"SELECT * FROM league\", conn)\n",
    "df_match = pd.read_sql_query(\"SELECT * FROM match\", conn)\n",
    "df_player = pd.read_sql_query(\"SELECT * FROM player\", conn)\n",
    "df_player_attributes = pd.read_sql_query(\"SELECT * FROM player_attributes\", conn)\n",
    "df_team = pd.read_sql_query(\"SELECT * FROM team\", conn)\n",
    "df_team_attributes = pd.read_sql_query(\"SELECT * FROM team_attributes\", conn)\n",
    "df_sqlite_sequence = pd.read_sql_query(\"SELECT * FROM sqlite_sequence\", conn)\n"
   ]
  },
  {
   "cell_type": "code",
   "execution_count": 4,
   "metadata": {},
   "outputs": [],
   "source": [
    "# Deleting Duplicate values from the table\n",
    "\n",
    "df_country = df_country.drop_duplicates()\n",
    "df_league = df_league.drop_duplicates()\n",
    "df_match = df_match.drop_duplicates()\n",
    "df_player = df_player.drop_duplicates()\n",
    "df_player_attributes = df_player_attributes.drop_duplicates()\n",
    "df_team = df_team.drop_duplicates()\n",
    "df_team_attributes = df_team_attributes.drop_duplicates()\n",
    "df_sqlite_sequence = df_sqlite_sequence.drop_duplicates()"
   ]
  },
  {
   "cell_type": "code",
   "execution_count": 5,
   "metadata": {},
   "outputs": [],
   "source": [
    "# Concate all the tables in one\n",
    "# Note: removed and merged by analyzed the all table relationship by zeel. so, before making change make sure to communicate eith zeel\n",
    "\n",
    "# merging country table\n",
    "df_merged_all_table = pd.merge(left=df_league, right=df_country, how='outer', left_on='country_id', right_on='id')\n",
    "df_merged_all_table = df_merged_all_table.drop([\"id_x\", \"country_id\"], axis=1)\n",
    "df_merged_all_table.columns.values[0] = \"league_name\"\n",
    "df_merged_all_table.columns.values[1] = \"league_id\"\n",
    "df_merged_all_table.columns.values[2] = \"country_name\"\n",
    "\n",
    "# -----------------------------------------------------------------\n",
    "\n",
    "# merging league table\n",
    "df_merged_all_table = df_match.merge(df_merged_all_table, how='outer', left_on='league_id', right_on='league_id')\n",
    "df_merged_all_table = df_merged_all_table.drop([\"league_id\", \"country_id\"], axis=1)\n",
    "df_merged_all_table.columns.values[0] = \"match_id\" \n",
    "df_merged_all_table = df_merged_all_table.drop([\"match_id\"], axis=1)\n",
    "\n",
    "# -----------------------------------------------------------------\n",
    "\n",
    "# merging team_attribute table with team table\n",
    "df_merged_team_table = pd.merge(left=df_team, right=df_team_attributes, how='outer', left_on=['team_api_id'], right_on=['team_api_id'])\n",
    "df_merged_team_table = df_merged_team_table.drop([\"id_x\", \"id_y\", \"team_fifa_api_id_y\"], axis=1)\n",
    "df_merged_team_table.columns.values[1] = \"team_fifa_api_id\" \n",
    "\n",
    "df_merged_team_table.drop_duplicates()\n",
    "\n",
    "# -----------------------------------------------------------------\n",
    "\n",
    "# merging merged team table\n",
    "df_merged_all_table = df_merged_all_table.merge(df_merged_team_table, how='outer', left_on=['home_team_api_id'], right_on=['team_api_id'])\n",
    "df_merged_all_table = df_merged_all_table.drop([\"date_y\"], axis=1)\n",
    "df_merged_all_table.columns.values[2] = \"date\" \n",
    "df_merged_all_table = df_merged_all_table.merge(df_merged_team_table, how='outer', left_on=['away_team_api_id'], right_on=['team_api_id'])\n",
    "df_merged_all_table.columns.values[2] = \"date\" \n",
    "\n",
    "for i in range(26):\n",
    "    df_merged_all_table = df_merged_all_table.drop([df_merged_all_table.columns[-1]], axis=1)\n",
    "\n",
    "for i in range(26):\n",
    "    df_merged_all_table.columns.values[-1 - i] = df_merged_all_table.columns[-1 - i].split(\"_x\")[0]\n",
    "\n",
    "# -----------------------------------------------------------------\n",
    "\n",
    "# merging player_attribute table with player table\n",
    "df_merged_player_table = pd.merge(left=df_player, right=df_player_attributes, how='outer', left_on=['player_api_id'], right_on=['player_api_id'])\n",
    "df_merged_player_table = df_merged_player_table.drop([\"id_x\", \"id_y\", \"player_fifa_api_id_y\"], axis=1)\n",
    "df_merged_player_table.columns.values[2] = \"player_fifa_api_id\" \n",
    "\n",
    "df_merged_player_table.drop_duplicates() \n",
    "\n",
    "# -----------------------------------------------------------------\n",
    "\n",
    "# droping columns with contains id (Converting n3 form to n1 form)\n",
    "df_merged_all_table = df_merged_all_table.drop([\"team_fifa_api_id\", \"team_api_id\", \"match_api_id\", \"home_team_api_id\", \"away_team_api_id\"], axis=1)\n",
    "\n",
    "# -----------------------------------------------------------------\n",
    "\n",
    "df_merged_all_table.drop_duplicates(inplace=True)"
   ]
  },
  {
   "cell_type": "code",
   "execution_count": 6,
   "metadata": {},
   "outputs": [
    {
     "name": "stdout",
     "output_type": "stream",
     "text": [
      "season stage date home_team_goal away_team_goal home_player_X1 home_player_X2 home_player_X3 home_player_X4 home_player_X5 home_player_X6 home_player_X7 home_player_X8 home_player_X9 home_player_X10 home_player_X11 away_player_X1 away_player_X2 away_player_X3 away_player_X4 away_player_X5 away_player_X6 away_player_X7 away_player_X8 away_player_X9 away_player_X10 away_player_X11 home_player_Y1 home_player_Y2 home_player_Y3 home_player_Y4 home_player_Y5 home_player_Y6 home_player_Y7 home_player_Y8 home_player_Y9 home_player_Y10 home_player_Y11 away_player_Y1 away_player_Y2 away_player_Y3 away_player_Y4 away_player_Y5 away_player_Y6 away_player_Y7 away_player_Y8 away_player_Y9 away_player_Y10 away_player_Y11 home_player_1 home_player_2 home_player_3 home_player_4 home_player_5 home_player_6 home_player_7 home_player_8 home_player_9 home_player_10 home_player_11 away_player_1 away_player_2 away_player_3 away_player_4 away_player_5 away_player_6 away_player_7 away_player_8 away_player_9 away_player_10 away_player_11 goal shoton shotoff foulcommit card cross corner possession B365H B365D B365A BWH BWD BWA IWH IWD IWA LBH LBD LBA PSH PSD PSA WHH WHD WHA SJH SJD SJA VCH VCD VCA GBH GBD GBA BSH BSD BSA league_name country_name team_long_name team_short_name buildUpPlaySpeed buildUpPlaySpeedClass buildUpPlayDribbling buildUpPlayDribblingClass buildUpPlayPassing buildUpPlayPassingClass buildUpPlayPositioningClass chanceCreationPassing chanceCreationPassingClass chanceCreationCrossing chanceCreationCrossingClass chanceCreationShooting chanceCreationShootingClass chanceCreationPositioningClass defencePressure defencePressureClass defenceAggression defenceAggressionClass defenceTeamWidth defenceTeamWidthClass defenceDefenderLineClass\n"
     ]
    }
   ],
   "source": [
    "print(*df_merged_all_table.columns)"
   ]
  },
  {
   "cell_type": "code",
   "execution_count": 7,
   "metadata": {},
   "outputs": [],
   "source": [
    "# Converting dataframe into csv for modeling\n",
    "\n",
    "df_merged_all_table.to_pickle('merged_all_table.csv' + \".pkl\", compression=\"bz2\")\n",
    "df_merged_player_table.to_pickle('merged_player_table.csv' + \".pkl\", compression=\"bz2\")"
   ]
  }
 ],
 "metadata": {
  "kernelspec": {
   "display_name": "Python 3",
   "language": "python",
   "name": "python3"
  },
  "language_info": {
   "codemirror_mode": {
    "name": "ipython",
    "version": 3
   },
   "file_extension": ".py",
   "mimetype": "text/x-python",
   "name": "python",
   "nbconvert_exporter": "python",
   "pygments_lexer": "ipython3",
   "version": "3.9.6"
  },
  "orig_nbformat": 4
 },
 "nbformat": 4,
 "nbformat_minor": 2
}
