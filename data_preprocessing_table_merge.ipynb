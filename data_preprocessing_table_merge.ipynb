{
 "cells": [
  {
   "attachments": {},
   "cell_type": "markdown",
   "metadata": {},
   "source": [
    "# Initial Imports"
   ]
  },
  {
   "cell_type": "code",
   "execution_count": 269,
   "metadata": {},
   "outputs": [],
   "source": [
    "import sqlite3\n",
    "import pandas as pd"
   ]
  },
  {
   "attachments": {},
   "cell_type": "markdown",
   "metadata": {},
   "source": [
    "# Loading the SQL file"
   ]
  },
  {
   "cell_type": "code",
   "execution_count": 270,
   "metadata": {},
   "outputs": [],
   "source": [
    "# Created connection.\n",
    "database_path = r\"database.sqlite\"\n",
    "\n",
    "conn = sqlite3.connect(database_path)"
   ]
  },
  {
   "attachments": {},
   "cell_type": "markdown",
   "metadata": {},
   "source": [
    "# Creating Object of all table into the SQL file"
   ]
  },
  {
   "cell_type": "code",
   "execution_count": 271,
   "metadata": {},
   "outputs": [],
   "source": [
    "# Creating dataframes from the tbales\n",
    "\n",
    "df_country = pd.read_sql_query(\"SELECT * FROM country\", conn)\n",
    "df_league = pd.read_sql_query(\"SELECT * FROM league\", conn)\n",
    "df_match = pd.read_sql_query(\"SELECT * FROM match\", conn)\n",
    "df_player = pd.read_sql_query(\"SELECT * FROM player\", conn)\n",
    "df_player_attributes = pd.read_sql_query(\"SELECT * FROM player_attributes\", conn)\n",
    "df_team = pd.read_sql_query(\"SELECT * FROM team\", conn)\n",
    "df_team_attributes = pd.read_sql_query(\"SELECT * FROM team_attributes\", conn)\n",
    "df_sqlite_sequence = pd.read_sql_query(\"SELECT * FROM sqlite_sequence\", conn)\n"
   ]
  },
  {
   "attachments": {},
   "cell_type": "markdown",
   "metadata": {},
   "source": [
    "**Deleting duplicate values**"
   ]
  },
  {
   "cell_type": "code",
   "execution_count": 272,
   "metadata": {},
   "outputs": [],
   "source": [
    "# Deleting Duplicate values from the table\n",
    "\n",
    "df_country = df_country.drop_duplicates()\n",
    "df_league = df_league.drop_duplicates()\n",
    "df_match = df_match.drop_duplicates()\n",
    "df_player = df_player.drop_duplicates()\n",
    "df_player_attributes = df_player_attributes.drop_duplicates()\n",
    "df_team = df_team.drop_duplicates()\n",
    "df_team_attributes = df_team_attributes.drop_duplicates()\n",
    "df_sqlite_sequence = df_sqlite_sequence.drop_duplicates()"
   ]
  },
  {
   "attachments": {},
   "cell_type": "markdown",
   "metadata": {},
   "source": [
    "# Marging all table into one table Section "
   ]
  },
  {
   "cell_type": "code",
   "execution_count": 273,
   "metadata": {},
   "outputs": [],
   "source": [
    "# Concate all the tables in one\n",
    "# Note: removed and merged by analyzed the all table relationship by zeel. so, before making change make sure to communicate with zeel"
   ]
  },
  {
   "attachments": {},
   "cell_type": "markdown",
   "metadata": {},
   "source": [
    "# Merging Country Table and League Table"
   ]
  },
  {
   "cell_type": "code",
   "execution_count": 274,
   "metadata": {},
   "outputs": [],
   "source": [
    "# merging country table\n",
    "df_merged_all_table = pd.merge(left=df_league, right=df_country, how='outer', left_on='country_id', right_on='id')\n",
    "df_merged_all_table = df_merged_all_table.drop([\"id_x\", \"country_id\"], axis=1)\n",
    "df_merged_all_table.columns.values[0] = \"league_name\"\n",
    "df_merged_all_table.columns.values[1] = \"league_id\"\n",
    "df_merged_all_table.columns.values[2] = \"country_name\""
   ]
  },
  {
   "cell_type": "code",
   "execution_count": 275,
   "metadata": {},
   "outputs": [
    {
     "data": {
      "text/html": [
       "<div>\n",
       "<style scoped>\n",
       "    .dataframe tbody tr th:only-of-type {\n",
       "        vertical-align: middle;\n",
       "    }\n",
       "\n",
       "    .dataframe tbody tr th {\n",
       "        vertical-align: top;\n",
       "    }\n",
       "\n",
       "    .dataframe thead th {\n",
       "        text-align: right;\n",
       "    }\n",
       "</style>\n",
       "<table border=\"1\" class=\"dataframe\">\n",
       "  <thead>\n",
       "    <tr style=\"text-align: right;\">\n",
       "      <th></th>\n",
       "      <th>league_name</th>\n",
       "      <th>league_id</th>\n",
       "      <th>country_name</th>\n",
       "    </tr>\n",
       "  </thead>\n",
       "  <tbody>\n",
       "    <tr>\n",
       "      <th>0</th>\n",
       "      <td>Belgium Jupiler League</td>\n",
       "      <td>1</td>\n",
       "      <td>Belgium</td>\n",
       "    </tr>\n",
       "    <tr>\n",
       "      <th>1</th>\n",
       "      <td>England Premier League</td>\n",
       "      <td>1729</td>\n",
       "      <td>England</td>\n",
       "    </tr>\n",
       "    <tr>\n",
       "      <th>2</th>\n",
       "      <td>France Ligue 1</td>\n",
       "      <td>4769</td>\n",
       "      <td>France</td>\n",
       "    </tr>\n",
       "    <tr>\n",
       "      <th>3</th>\n",
       "      <td>Germany 1. Bundesliga</td>\n",
       "      <td>7809</td>\n",
       "      <td>Germany</td>\n",
       "    </tr>\n",
       "    <tr>\n",
       "      <th>4</th>\n",
       "      <td>Italy Serie A</td>\n",
       "      <td>10257</td>\n",
       "      <td>Italy</td>\n",
       "    </tr>\n",
       "    <tr>\n",
       "      <th>5</th>\n",
       "      <td>Netherlands Eredivisie</td>\n",
       "      <td>13274</td>\n",
       "      <td>Netherlands</td>\n",
       "    </tr>\n",
       "    <tr>\n",
       "      <th>6</th>\n",
       "      <td>Poland Ekstraklasa</td>\n",
       "      <td>15722</td>\n",
       "      <td>Poland</td>\n",
       "    </tr>\n",
       "    <tr>\n",
       "      <th>7</th>\n",
       "      <td>Portugal Liga ZON Sagres</td>\n",
       "      <td>17642</td>\n",
       "      <td>Portugal</td>\n",
       "    </tr>\n",
       "    <tr>\n",
       "      <th>8</th>\n",
       "      <td>Scotland Premier League</td>\n",
       "      <td>19694</td>\n",
       "      <td>Scotland</td>\n",
       "    </tr>\n",
       "    <tr>\n",
       "      <th>9</th>\n",
       "      <td>Spain LIGA BBVA</td>\n",
       "      <td>21518</td>\n",
       "      <td>Spain</td>\n",
       "    </tr>\n",
       "    <tr>\n",
       "      <th>10</th>\n",
       "      <td>Switzerland Super League</td>\n",
       "      <td>24558</td>\n",
       "      <td>Switzerland</td>\n",
       "    </tr>\n",
       "  </tbody>\n",
       "</table>\n",
       "</div>"
      ],
      "text/plain": [
       "                 league_name  league_id country_name\n",
       "0     Belgium Jupiler League          1      Belgium\n",
       "1     England Premier League       1729      England\n",
       "2             France Ligue 1       4769       France\n",
       "3      Germany 1. Bundesliga       7809      Germany\n",
       "4              Italy Serie A      10257        Italy\n",
       "5     Netherlands Eredivisie      13274  Netherlands\n",
       "6         Poland Ekstraklasa      15722       Poland\n",
       "7   Portugal Liga ZON Sagres      17642     Portugal\n",
       "8    Scotland Premier League      19694     Scotland\n",
       "9            Spain LIGA BBVA      21518        Spain\n",
       "10  Switzerland Super League      24558  Switzerland"
      ]
     },
     "execution_count": 275,
     "metadata": {},
     "output_type": "execute_result"
    }
   ],
   "source": [
    "df_merged_all_table"
   ]
  },
  {
   "attachments": {},
   "cell_type": "markdown",
   "metadata": {},
   "source": [
    "# Merging match Table and previous combined Table"
   ]
  },
  {
   "cell_type": "code",
   "execution_count": 276,
   "metadata": {},
   "outputs": [],
   "source": [
    "# merging league table\n",
    "df_merged_all_table = df_match.merge(df_merged_all_table, how='outer', left_on='league_id', right_on='league_id')\n",
    "df_merged_all_table = df_merged_all_table.drop([\"league_id\", \"country_id\"], axis=1)\n",
    "df_merged_all_table.columns.values[0] = \"match_id\" \n",
    "df_merged_all_table = df_merged_all_table.drop([\"match_id\"], axis=1)"
   ]
  },
  {
   "attachments": {},
   "cell_type": "markdown",
   "metadata": {},
   "source": [
    "# Merging team Table and team attribute Table"
   ]
  },
  {
   "cell_type": "code",
   "execution_count": 277,
   "metadata": {},
   "outputs": [],
   "source": [
    "# merging team table and team_attribute table with latest records of team\n",
    "df_team_attributes = pd.read_sql_query(\"select * from Team_Attributes group by team_api_id order by max(date) DESC\", conn)\n",
    "\n",
    "df_merged_team_table = pd.merge(left=df_team, right=df_team_attributes, how='outer', left_on=['team_api_id'], right_on=['team_api_id'])"
   ]
  },
  {
   "cell_type": "code",
   "execution_count": 278,
   "metadata": {},
   "outputs": [],
   "source": [
    "df_merged_team_table = df_merged_team_table.drop(columns=[\"id_x\", \"team_fifa_api_id_x\", \"id_y\", \"team_fifa_api_id_y\"])"
   ]
  },
  {
   "attachments": {},
   "cell_type": "markdown",
   "metadata": {},
   "source": [
    "* performing imputation"
   ]
  },
  {
   "cell_type": "code",
   "execution_count": 279,
   "metadata": {},
   "outputs": [],
   "source": [
    "# removed class columns \n",
    "skip_count = 0\n",
    "for i in df_merged_team_table.columns:\n",
    "    if df_merged_team_table[i].dtype == \"object\":\n",
    "        skip_count += 1\n",
    "        if skip_count > 3:\n",
    "            df_merged_team_table = df_merged_team_table.drop(columns=i)"
   ]
  },
  {
   "cell_type": "code",
   "execution_count": 280,
   "metadata": {},
   "outputs": [],
   "source": [
    "# import the KNNimputer class\n",
    "from sklearn.impute import KNNImputer\n",
    "\n",
    "imputer = KNNImputer(n_neighbors=2)"
   ]
  },
  {
   "cell_type": "code",
   "execution_count": 281,
   "metadata": {},
   "outputs": [],
   "source": [
    "# getting team overall score based on mean\n",
    "col_list = []\n",
    "skip_count = 0\n",
    "for i in df_merged_team_table.columns:\n",
    "    skip_count += 1\n",
    "    if skip_count > 4:\n",
    "        col_list.append(i)\n",
    "\n",
    "imputed_table = imputer.fit_transform(df_merged_team_table[col_list])\n",
    "\n",
    "imputed_table = pd.DataFrame(imputed_table)\n",
    "imputed_table = imputed_table.mean(axis = 1, skipna = False)\n",
    "\n",
    "df_merged_team_table = df_merged_team_table.drop(columns=col_list)\n",
    "df_merged_team_table = df_merged_team_table.drop(columns=\"date\")\n",
    "df_merged_team_table[\"team_overall_score\"] = imputed_table"
   ]
  },
  {
   "attachments": {},
   "cell_type": "markdown",
   "metadata": {},
   "source": [
    "* imputation done and joined the imputed table with main team table"
   ]
  },
  {
   "cell_type": "code",
   "execution_count": 282,
   "metadata": {},
   "outputs": [
    {
     "data": {
      "text/html": [
       "<div>\n",
       "<style scoped>\n",
       "    .dataframe tbody tr th:only-of-type {\n",
       "        vertical-align: middle;\n",
       "    }\n",
       "\n",
       "    .dataframe tbody tr th {\n",
       "        vertical-align: top;\n",
       "    }\n",
       "\n",
       "    .dataframe thead th {\n",
       "        text-align: right;\n",
       "    }\n",
       "</style>\n",
       "<table border=\"1\" class=\"dataframe\">\n",
       "  <thead>\n",
       "    <tr style=\"text-align: right;\">\n",
       "      <th></th>\n",
       "      <th>team_api_id</th>\n",
       "      <th>team_long_name</th>\n",
       "      <th>team_short_name</th>\n",
       "      <th>team_overall_score</th>\n",
       "    </tr>\n",
       "  </thead>\n",
       "  <tbody>\n",
       "    <tr>\n",
       "      <th>0</th>\n",
       "      <td>9987</td>\n",
       "      <td>KRC Genk</td>\n",
       "      <td>GEN</td>\n",
       "      <td>51.777778</td>\n",
       "    </tr>\n",
       "    <tr>\n",
       "      <th>1</th>\n",
       "      <td>9993</td>\n",
       "      <td>Beerschot AC</td>\n",
       "      <td>BAC</td>\n",
       "      <td>49.000000</td>\n",
       "    </tr>\n",
       "    <tr>\n",
       "      <th>2</th>\n",
       "      <td>10000</td>\n",
       "      <td>SV Zulte-Waregem</td>\n",
       "      <td>ZUL</td>\n",
       "      <td>46.333333</td>\n",
       "    </tr>\n",
       "    <tr>\n",
       "      <th>3</th>\n",
       "      <td>9994</td>\n",
       "      <td>Sporting Lokeren</td>\n",
       "      <td>LOK</td>\n",
       "      <td>51.333333</td>\n",
       "    </tr>\n",
       "    <tr>\n",
       "      <th>4</th>\n",
       "      <td>9984</td>\n",
       "      <td>KSV Cercle Brugge</td>\n",
       "      <td>CEB</td>\n",
       "      <td>51.666667</td>\n",
       "    </tr>\n",
       "    <tr>\n",
       "      <th>...</th>\n",
       "      <td>...</td>\n",
       "      <td>...</td>\n",
       "      <td>...</td>\n",
       "      <td>...</td>\n",
       "    </tr>\n",
       "    <tr>\n",
       "      <th>294</th>\n",
       "      <td>10190</td>\n",
       "      <td>FC St. Gallen</td>\n",
       "      <td>GAL</td>\n",
       "      <td>43.222222</td>\n",
       "    </tr>\n",
       "    <tr>\n",
       "      <th>295</th>\n",
       "      <td>10191</td>\n",
       "      <td>FC Thun</td>\n",
       "      <td>THU</td>\n",
       "      <td>51.444444</td>\n",
       "    </tr>\n",
       "    <tr>\n",
       "      <th>296</th>\n",
       "      <td>9777</td>\n",
       "      <td>Servette FC</td>\n",
       "      <td>SER</td>\n",
       "      <td>50.333333</td>\n",
       "    </tr>\n",
       "    <tr>\n",
       "      <th>297</th>\n",
       "      <td>7730</td>\n",
       "      <td>FC Lausanne-Sports</td>\n",
       "      <td>LAU</td>\n",
       "      <td>50.000000</td>\n",
       "    </tr>\n",
       "    <tr>\n",
       "      <th>298</th>\n",
       "      <td>7896</td>\n",
       "      <td>Lugano</td>\n",
       "      <td>LUG</td>\n",
       "      <td>50.166908</td>\n",
       "    </tr>\n",
       "  </tbody>\n",
       "</table>\n",
       "<p>299 rows × 4 columns</p>\n",
       "</div>"
      ],
      "text/plain": [
       "     team_api_id      team_long_name team_short_name  team_overall_score\n",
       "0           9987            KRC Genk             GEN           51.777778\n",
       "1           9993        Beerschot AC             BAC           49.000000\n",
       "2          10000    SV Zulte-Waregem             ZUL           46.333333\n",
       "3           9994    Sporting Lokeren             LOK           51.333333\n",
       "4           9984   KSV Cercle Brugge             CEB           51.666667\n",
       "..           ...                 ...             ...                 ...\n",
       "294        10190       FC St. Gallen             GAL           43.222222\n",
       "295        10191             FC Thun             THU           51.444444\n",
       "296         9777         Servette FC             SER           50.333333\n",
       "297         7730  FC Lausanne-Sports             LAU           50.000000\n",
       "298         7896              Lugano             LUG           50.166908\n",
       "\n",
       "[299 rows x 4 columns]"
      ]
     },
     "execution_count": 282,
     "metadata": {},
     "output_type": "execute_result"
    }
   ],
   "source": [
    "df_merged_team_table"
   ]
  },
  {
   "attachments": {},
   "cell_type": "markdown",
   "metadata": {},
   "source": [
    "# Merging combined previous table with combined team table"
   ]
  },
  {
   "attachments": {},
   "cell_type": "markdown",
   "metadata": {},
   "source": [
    "* combine both the table and removed extra coulms "
   ]
  },
  {
   "cell_type": "code",
   "execution_count": 283,
   "metadata": {},
   "outputs": [],
   "source": [
    "# merging merged team table\n",
    "df_merged_all_table = df_merged_all_table.merge(df_merged_team_table, how='outer', left_on=['home_team_api_id'], right_on=['team_api_id'])\n",
    "df_merged_all_table.columns.values[2] = \"date\" \n",
    "df_merged_all_table = df_merged_all_table.merge(df_merged_team_table, how='outer', left_on=['away_team_api_id'], right_on=['team_api_id'])\n",
    "df_merged_all_table.columns.values[2] = \"date\" \n",
    "\n",
    "for i in range(4):\n",
    "    df_merged_all_table = df_merged_all_table.drop([df_merged_all_table.columns[-1]], axis=1)\n",
    "\n",
    "for i in range(4):\n",
    "    df_merged_all_table.columns.values[-1 - i] = df_merged_all_table.columns[-1 - i].split(\"_x\")[0]"
   ]
  },
  {
   "cell_type": "code",
   "execution_count": 284,
   "metadata": {},
   "outputs": [
    {
     "data": {
      "text/plain": [
       "Index(['season', 'stage', 'date', 'match_api_id', 'home_team_api_id',\n",
       "       'away_team_api_id', 'home_team_goal', 'away_team_goal',\n",
       "       'home_player_X1', 'home_player_X2',\n",
       "       ...\n",
       "       'GBA', 'BSH', 'BSD', 'BSA', 'league_name', 'country_name',\n",
       "       'team_api_id', 'team_long_name', 'team_short_name',\n",
       "       'team_overall_score'],\n",
       "      dtype='object', length=118)"
      ]
     },
     "execution_count": 284,
     "metadata": {},
     "output_type": "execute_result"
    }
   ],
   "source": [
    "df_merged_all_table.columns"
   ]
  },
  {
   "attachments": {},
   "cell_type": "markdown",
   "metadata": {},
   "source": [
    "# Merging player attribute table with player table"
   ]
  },
  {
   "cell_type": "code",
   "execution_count": 285,
   "metadata": {},
   "outputs": [],
   "source": [
    "# merging team table and team_attribute table with latest records of team\n",
    "df_player_attributes = pd.read_sql_query(\"select * from Player_Attributes group by Player_api_id order by max(date) DESC\", conn)\n",
    "\n",
    "# merging player_attribute table with player table\n",
    "df_merged_player_table = pd.merge(left=df_player, right=df_player_attributes, how='outer', left_on=['player_api_id'], right_on=['player_api_id'])\n",
    "df_merged_player_table = df_merged_player_table.drop([\"id_x\", \"id_y\", \"player_fifa_api_id_y\"], axis=1)\n",
    "df_merged_player_table.columns.values[2] = \"player_fifa_api_id\" \n",
    "df_merged_player_table = df_merged_player_table.drop(columns=\"player_fifa_api_id\") \n",
    "\n",
    "df_merged_player_table = df_merged_player_table.drop_duplicates() "
   ]
  },
  {
   "cell_type": "code",
   "execution_count": 286,
   "metadata": {},
   "outputs": [],
   "source": [
    "df_merged_player_table = df_merged_player_table.drop(columns=[\"date\", \"birthday\"])"
   ]
  },
  {
   "cell_type": "code",
   "execution_count": 287,
   "metadata": {},
   "outputs": [
    {
     "name": "stdout",
     "output_type": "stream",
     "text": [
      "<class 'pandas.core.frame.DataFrame'>\n",
      "Int64Index: 11060 entries, 0 to 11059\n",
      "Data columns (total 42 columns):\n",
      " #   Column               Non-Null Count  Dtype  \n",
      "---  ------               --------------  -----  \n",
      " 0   player_api_id        11060 non-null  int64  \n",
      " 1   player_name          11060 non-null  object \n",
      " 2   height               11060 non-null  float64\n",
      " 3   weight               11060 non-null  int64  \n",
      " 4   overall_rating       11060 non-null  int64  \n",
      " 5   potential            11060 non-null  int64  \n",
      " 6   preferred_foot       11060 non-null  object \n",
      " 7   attacking_work_rate  10520 non-null  object \n",
      " 8   defensive_work_rate  11060 non-null  object \n",
      " 9   crossing             11060 non-null  int64  \n",
      " 10  finishing            11060 non-null  int64  \n",
      " 11  heading_accuracy     11060 non-null  int64  \n",
      " 12  short_passing        11060 non-null  int64  \n",
      " 13  volleys              10582 non-null  float64\n",
      " 14  dribbling            11060 non-null  int64  \n",
      " 15  curve                10582 non-null  float64\n",
      " 16  free_kick_accuracy   11060 non-null  int64  \n",
      " 17  long_passing         11060 non-null  int64  \n",
      " 18  ball_control         11060 non-null  int64  \n",
      " 19  acceleration         11060 non-null  int64  \n",
      " 20  sprint_speed         11060 non-null  int64  \n",
      " 21  agility              10582 non-null  float64\n",
      " 22  reactions            11060 non-null  int64  \n",
      " 23  balance              10582 non-null  float64\n",
      " 24  shot_power           11060 non-null  int64  \n",
      " 25  jumping              10582 non-null  float64\n",
      " 26  stamina              11060 non-null  int64  \n",
      " 27  strength             11060 non-null  int64  \n",
      " 28  long_shots           11060 non-null  int64  \n",
      " 29  aggression           11060 non-null  int64  \n",
      " 30  interceptions        11060 non-null  int64  \n",
      " 31  positioning          11060 non-null  int64  \n",
      " 32  vision               10582 non-null  float64\n",
      " 33  penalties            11060 non-null  int64  \n",
      " 34  marking              11060 non-null  int64  \n",
      " 35  standing_tackle      11060 non-null  int64  \n",
      " 36  sliding_tackle       10582 non-null  float64\n",
      " 37  gk_diving            11060 non-null  int64  \n",
      " 38  gk_handling          11060 non-null  int64  \n",
      " 39  gk_kicking           11060 non-null  int64  \n",
      " 40  gk_positioning       11060 non-null  int64  \n",
      " 41  gk_reflexes          11060 non-null  int64  \n",
      "dtypes: float64(8), int64(30), object(4)\n",
      "memory usage: 3.6+ MB\n"
     ]
    }
   ],
   "source": [
    "df_merged_player_table.info()"
   ]
  },
  {
   "attachments": {},
   "cell_type": "markdown",
   "metadata": {},
   "source": [
    "* To decide which column should we need to take and whoch columns need to impute"
   ]
  },
  {
   "cell_type": "code",
   "execution_count": 288,
   "metadata": {},
   "outputs": [
    {
     "data": {
      "text/plain": [
       "player_api_id            0\n",
       "player_name              0\n",
       "height                   0\n",
       "weight                   0\n",
       "overall_rating           0\n",
       "potential                0\n",
       "preferred_foot           0\n",
       "attacking_work_rate    540\n",
       "defensive_work_rate      0\n",
       "crossing                 0\n",
       "finishing                0\n",
       "heading_accuracy         0\n",
       "short_passing            0\n",
       "volleys                478\n",
       "dribbling                0\n",
       "curve                  478\n",
       "free_kick_accuracy       0\n",
       "long_passing             0\n",
       "ball_control             0\n",
       "acceleration             0\n",
       "sprint_speed             0\n",
       "agility                478\n",
       "reactions                0\n",
       "balance                478\n",
       "shot_power               0\n",
       "jumping                478\n",
       "stamina                  0\n",
       "strength                 0\n",
       "long_shots               0\n",
       "aggression               0\n",
       "interceptions            0\n",
       "positioning              0\n",
       "vision                 478\n",
       "penalties                0\n",
       "marking                  0\n",
       "standing_tackle          0\n",
       "sliding_tackle         478\n",
       "gk_diving                0\n",
       "gk_handling              0\n",
       "gk_kicking               0\n",
       "gk_positioning           0\n",
       "gk_reflexes              0\n",
       "dtype: int64"
      ]
     },
     "execution_count": 288,
     "metadata": {},
     "output_type": "execute_result"
    }
   ],
   "source": [
    "df_merged_player_table.isnull().sum()"
   ]
  },
  {
   "cell_type": "code",
   "execution_count": 289,
   "metadata": {},
   "outputs": [],
   "source": [
    "df_merged_player_table = df_merged_player_table.drop(columns=[\"preferred_foot\", \"attacking_work_rate\", \"defensive_work_rate\"])"
   ]
  },
  {
   "attachments": {},
   "cell_type": "markdown",
   "metadata": {},
   "source": [
    "* implementing imputatuon to reduce the shape of the table"
   ]
  },
  {
   "cell_type": "code",
   "execution_count": 290,
   "metadata": {},
   "outputs": [],
   "source": [
    "imputer = KNNImputer(n_neighbors=2)"
   ]
  },
  {
   "cell_type": "code",
   "execution_count": 291,
   "metadata": {},
   "outputs": [],
   "source": [
    "# getting team overall score based on mean\n",
    "col_list = []\n",
    "skip_count = 0\n",
    "for i in df_merged_player_table.columns:\n",
    "    skip_count += 1\n",
    "    if skip_count > 5:\n",
    "        col_list.append(i)\n",
    "\n",
    "imputed_table = imputer.fit_transform(df_merged_player_table[col_list])\n",
    "\n",
    "imputed_table = pd.DataFrame(imputed_table)\n",
    "imputed_table = imputed_table.mean(axis = 1, skipna = False)\n",
    "\n",
    "df_merged_player_table = df_merged_player_table.drop(columns=col_list)\n",
    "df_merged_player_table[\"player_overall_score\"] = imputed_table"
   ]
  },
  {
   "cell_type": "code",
   "execution_count": 292,
   "metadata": {},
   "outputs": [
    {
     "data": {
      "text/html": [
       "<div>\n",
       "<style scoped>\n",
       "    .dataframe tbody tr th:only-of-type {\n",
       "        vertical-align: middle;\n",
       "    }\n",
       "\n",
       "    .dataframe tbody tr th {\n",
       "        vertical-align: top;\n",
       "    }\n",
       "\n",
       "    .dataframe thead th {\n",
       "        text-align: right;\n",
       "    }\n",
       "</style>\n",
       "<table border=\"1\" class=\"dataframe\">\n",
       "  <thead>\n",
       "    <tr style=\"text-align: right;\">\n",
       "      <th></th>\n",
       "      <th>player_api_id</th>\n",
       "      <th>player_name</th>\n",
       "      <th>height</th>\n",
       "      <th>weight</th>\n",
       "      <th>overall_rating</th>\n",
       "      <th>player_overall_score</th>\n",
       "    </tr>\n",
       "  </thead>\n",
       "  <tbody>\n",
       "    <tr>\n",
       "      <th>0</th>\n",
       "      <td>505942</td>\n",
       "      <td>Aaron Appindangoye</td>\n",
       "      <td>182.88</td>\n",
       "      <td>187</td>\n",
       "      <td>67</td>\n",
       "      <td>49.852941</td>\n",
       "    </tr>\n",
       "    <tr>\n",
       "      <th>1</th>\n",
       "      <td>155782</td>\n",
       "      <td>Aaron Cresswell</td>\n",
       "      <td>170.18</td>\n",
       "      <td>146</td>\n",
       "      <td>74</td>\n",
       "      <td>61.000000</td>\n",
       "    </tr>\n",
       "    <tr>\n",
       "      <th>2</th>\n",
       "      <td>162549</td>\n",
       "      <td>Aaron Doran</td>\n",
       "      <td>170.18</td>\n",
       "      <td>163</td>\n",
       "      <td>65</td>\n",
       "      <td>53.794118</td>\n",
       "    </tr>\n",
       "    <tr>\n",
       "      <th>3</th>\n",
       "      <td>30572</td>\n",
       "      <td>Aaron Galindo</td>\n",
       "      <td>182.88</td>\n",
       "      <td>198</td>\n",
       "      <td>69</td>\n",
       "      <td>48.029412</td>\n",
       "    </tr>\n",
       "    <tr>\n",
       "      <th>4</th>\n",
       "      <td>23780</td>\n",
       "      <td>Aaron Hughes</td>\n",
       "      <td>182.88</td>\n",
       "      <td>154</td>\n",
       "      <td>70</td>\n",
       "      <td>46.264706</td>\n",
       "    </tr>\n",
       "    <tr>\n",
       "      <th>...</th>\n",
       "      <td>...</td>\n",
       "      <td>...</td>\n",
       "      <td>...</td>\n",
       "      <td>...</td>\n",
       "      <td>...</td>\n",
       "      <td>...</td>\n",
       "    </tr>\n",
       "    <tr>\n",
       "      <th>11055</th>\n",
       "      <td>26357</td>\n",
       "      <td>Zoumana Camara</td>\n",
       "      <td>182.88</td>\n",
       "      <td>168</td>\n",
       "      <td>73</td>\n",
       "      <td>50.647059</td>\n",
       "    </tr>\n",
       "    <tr>\n",
       "      <th>11056</th>\n",
       "      <td>111182</td>\n",
       "      <td>Zsolt Laczko</td>\n",
       "      <td>182.88</td>\n",
       "      <td>176</td>\n",
       "      <td>63</td>\n",
       "      <td>51.441176</td>\n",
       "    </tr>\n",
       "    <tr>\n",
       "      <th>11057</th>\n",
       "      <td>36491</td>\n",
       "      <td>Zsolt Low</td>\n",
       "      <td>180.34</td>\n",
       "      <td>154</td>\n",
       "      <td>68</td>\n",
       "      <td>55.000000</td>\n",
       "    </tr>\n",
       "    <tr>\n",
       "      <th>11058</th>\n",
       "      <td>35506</td>\n",
       "      <td>Zurab Khizanishvili</td>\n",
       "      <td>185.42</td>\n",
       "      <td>172</td>\n",
       "      <td>67</td>\n",
       "      <td>50.294118</td>\n",
       "    </tr>\n",
       "    <tr>\n",
       "      <th>11059</th>\n",
       "      <td>39902</td>\n",
       "      <td>Zvjezdan Misimovic</td>\n",
       "      <td>180.34</td>\n",
       "      <td>176</td>\n",
       "      <td>78</td>\n",
       "      <td>57.647059</td>\n",
       "    </tr>\n",
       "  </tbody>\n",
       "</table>\n",
       "<p>11060 rows × 6 columns</p>\n",
       "</div>"
      ],
      "text/plain": [
       "       player_api_id          player_name  height  weight  overall_rating  \\\n",
       "0             505942   Aaron Appindangoye  182.88     187              67   \n",
       "1             155782      Aaron Cresswell  170.18     146              74   \n",
       "2             162549          Aaron Doran  170.18     163              65   \n",
       "3              30572        Aaron Galindo  182.88     198              69   \n",
       "4              23780         Aaron Hughes  182.88     154              70   \n",
       "...              ...                  ...     ...     ...             ...   \n",
       "11055          26357       Zoumana Camara  182.88     168              73   \n",
       "11056         111182         Zsolt Laczko  182.88     176              63   \n",
       "11057          36491            Zsolt Low  180.34     154              68   \n",
       "11058          35506  Zurab Khizanishvili  185.42     172              67   \n",
       "11059          39902   Zvjezdan Misimovic  180.34     176              78   \n",
       "\n",
       "       player_overall_score  \n",
       "0                 49.852941  \n",
       "1                 61.000000  \n",
       "2                 53.794118  \n",
       "3                 48.029412  \n",
       "4                 46.264706  \n",
       "...                     ...  \n",
       "11055             50.647059  \n",
       "11056             51.441176  \n",
       "11057             55.000000  \n",
       "11058             50.294118  \n",
       "11059             57.647059  \n",
       "\n",
       "[11060 rows x 6 columns]"
      ]
     },
     "execution_count": 292,
     "metadata": {},
     "output_type": "execute_result"
    }
   ],
   "source": [
    "df_merged_player_table"
   ]
  },
  {
   "attachments": {},
   "cell_type": "markdown",
   "metadata": {},
   "source": [
    "* converting player's weight and height into player_body_rate for idead player body rate"
   ]
  },
  {
   "cell_type": "code",
   "execution_count": 293,
   "metadata": {},
   "outputs": [],
   "source": [
    "def calculate_ideal_player_body_rate(weight, height):\n",
    "\n",
    "    # Sample formula: Ideal Body Rate = Weight / Height^2 (need to analyse the effective formula)\n",
    "    ideal_body_rate = weight / (height/100) ** 2\n",
    "    return ideal_body_rate"
   ]
  },
  {
   "cell_type": "code",
   "execution_count": 294,
   "metadata": {},
   "outputs": [],
   "source": [
    "df_merged_player_table['player_ideal_body_rate'] = df_merged_player_table.apply(lambda row: calculate_ideal_player_body_rate(row['weight'], row['height']), axis=1)"
   ]
  },
  {
   "cell_type": "code",
   "execution_count": 295,
   "metadata": {},
   "outputs": [],
   "source": [
    "df_merged_player_table = df_merged_player_table.drop(columns=[\"height\", \"weight\"])"
   ]
  },
  {
   "cell_type": "code",
   "execution_count": 296,
   "metadata": {},
   "outputs": [
    {
     "data": {
      "text/html": [
       "<div>\n",
       "<style scoped>\n",
       "    .dataframe tbody tr th:only-of-type {\n",
       "        vertical-align: middle;\n",
       "    }\n",
       "\n",
       "    .dataframe tbody tr th {\n",
       "        vertical-align: top;\n",
       "    }\n",
       "\n",
       "    .dataframe thead th {\n",
       "        text-align: right;\n",
       "    }\n",
       "</style>\n",
       "<table border=\"1\" class=\"dataframe\">\n",
       "  <thead>\n",
       "    <tr style=\"text-align: right;\">\n",
       "      <th></th>\n",
       "      <th>player_api_id</th>\n",
       "      <th>player_name</th>\n",
       "      <th>overall_rating</th>\n",
       "      <th>player_overall_score</th>\n",
       "      <th>player_ideal_body_rate</th>\n",
       "    </tr>\n",
       "  </thead>\n",
       "  <tbody>\n",
       "    <tr>\n",
       "      <th>0</th>\n",
       "      <td>505942</td>\n",
       "      <td>Aaron Appindangoye</td>\n",
       "      <td>67</td>\n",
       "      <td>49.852941</td>\n",
       "      <td>55.912535</td>\n",
       "    </tr>\n",
       "    <tr>\n",
       "      <th>1</th>\n",
       "      <td>155782</td>\n",
       "      <td>Aaron Cresswell</td>\n",
       "      <td>74</td>\n",
       "      <td>61.000000</td>\n",
       "      <td>50.412219</td>\n",
       "    </tr>\n",
       "    <tr>\n",
       "      <th>2</th>\n",
       "      <td>162549</td>\n",
       "      <td>Aaron Doran</td>\n",
       "      <td>65</td>\n",
       "      <td>53.794118</td>\n",
       "      <td>56.282135</td>\n",
       "    </tr>\n",
       "    <tr>\n",
       "      <th>3</th>\n",
       "      <td>30572</td>\n",
       "      <td>Aaron Galindo</td>\n",
       "      <td>69</td>\n",
       "      <td>48.029412</td>\n",
       "      <td>59.201507</td>\n",
       "    </tr>\n",
       "    <tr>\n",
       "      <th>4</th>\n",
       "      <td>23780</td>\n",
       "      <td>Aaron Hughes</td>\n",
       "      <td>70</td>\n",
       "      <td>46.264706</td>\n",
       "      <td>46.045617</td>\n",
       "    </tr>\n",
       "    <tr>\n",
       "      <th>...</th>\n",
       "      <td>...</td>\n",
       "      <td>...</td>\n",
       "      <td>...</td>\n",
       "      <td>...</td>\n",
       "      <td>...</td>\n",
       "    </tr>\n",
       "    <tr>\n",
       "      <th>11055</th>\n",
       "      <td>26357</td>\n",
       "      <td>Zoumana Camara</td>\n",
       "      <td>73</td>\n",
       "      <td>50.647059</td>\n",
       "      <td>50.231582</td>\n",
       "    </tr>\n",
       "    <tr>\n",
       "      <th>11056</th>\n",
       "      <td>111182</td>\n",
       "      <td>Zsolt Laczko</td>\n",
       "      <td>63</td>\n",
       "      <td>51.441176</td>\n",
       "      <td>52.623562</td>\n",
       "    </tr>\n",
       "    <tr>\n",
       "      <th>11057</th>\n",
       "      <td>36491</td>\n",
       "      <td>Zsolt Low</td>\n",
       "      <td>68</td>\n",
       "      <td>55.000000</td>\n",
       "      <td>47.351811</td>\n",
       "    </tr>\n",
       "    <tr>\n",
       "      <th>11058</th>\n",
       "      <td>35506</td>\n",
       "      <td>Zurab Khizanishvili</td>\n",
       "      <td>67</td>\n",
       "      <td>50.294118</td>\n",
       "      <td>50.028248</td>\n",
       "    </tr>\n",
       "    <tr>\n",
       "      <th>11059</th>\n",
       "      <td>39902</td>\n",
       "      <td>Zvjezdan Misimovic</td>\n",
       "      <td>78</td>\n",
       "      <td>57.647059</td>\n",
       "      <td>54.116355</td>\n",
       "    </tr>\n",
       "  </tbody>\n",
       "</table>\n",
       "<p>11060 rows × 5 columns</p>\n",
       "</div>"
      ],
      "text/plain": [
       "       player_api_id          player_name  overall_rating  \\\n",
       "0             505942   Aaron Appindangoye              67   \n",
       "1             155782      Aaron Cresswell              74   \n",
       "2             162549          Aaron Doran              65   \n",
       "3              30572        Aaron Galindo              69   \n",
       "4              23780         Aaron Hughes              70   \n",
       "...              ...                  ...             ...   \n",
       "11055          26357       Zoumana Camara              73   \n",
       "11056         111182         Zsolt Laczko              63   \n",
       "11057          36491            Zsolt Low              68   \n",
       "11058          35506  Zurab Khizanishvili              67   \n",
       "11059          39902   Zvjezdan Misimovic              78   \n",
       "\n",
       "       player_overall_score  player_ideal_body_rate  \n",
       "0                 49.852941               55.912535  \n",
       "1                 61.000000               50.412219  \n",
       "2                 53.794118               56.282135  \n",
       "3                 48.029412               59.201507  \n",
       "4                 46.264706               46.045617  \n",
       "...                     ...                     ...  \n",
       "11055             50.647059               50.231582  \n",
       "11056             51.441176               52.623562  \n",
       "11057             55.000000               47.351811  \n",
       "11058             50.294118               50.028248  \n",
       "11059             57.647059               54.116355  \n",
       "\n",
       "[11060 rows x 5 columns]"
      ]
     },
     "execution_count": 296,
     "metadata": {},
     "output_type": "execute_result"
    }
   ],
   "source": [
    "df_merged_player_table"
   ]
  },
  {
   "attachments": {},
   "cell_type": "markdown",
   "metadata": {},
   "source": [
    "# Adding new feature Player overall rating into match table"
   ]
  },
  {
   "cell_type": "code",
   "execution_count": 297,
   "metadata": {},
   "outputs": [],
   "source": [
    "df_merged_all_table.drop_duplicates(inplace=True)"
   ]
  },
  {
   "cell_type": "code",
   "execution_count": 298,
   "metadata": {},
   "outputs": [],
   "source": [
    "# combining total goal of a respected team\n",
    "\n",
    "home_total_goal = pd.read_sql_query(\"select home_team_api_id, sum(home_team_goal) as home_total_goal from match group by home_team_api_id\", conn)\n",
    "away_total_goal = pd.read_sql_query(\"select away_team_api_id, sum(away_team_goal) as away_total_goal from match group by away_team_api_id\", conn)"
   ]
  },
  {
   "cell_type": "code",
   "execution_count": 299,
   "metadata": {},
   "outputs": [],
   "source": [
    "# merging both the home and away total goal to the match table\n",
    "\n",
    "df_merged_all_table = pd.merge(df_merged_all_table, home_total_goal, on='home_team_api_id')\n",
    "df_merged_all_table = pd.merge(df_merged_all_table, away_total_goal, on='away_team_api_id')"
   ]
  },
  {
   "cell_type": "code",
   "execution_count": 300,
   "metadata": {},
   "outputs": [
    {
     "data": {
      "text/html": [
       "<div>\n",
       "<style scoped>\n",
       "    .dataframe tbody tr th:only-of-type {\n",
       "        vertical-align: middle;\n",
       "    }\n",
       "\n",
       "    .dataframe tbody tr th {\n",
       "        vertical-align: top;\n",
       "    }\n",
       "\n",
       "    .dataframe thead th {\n",
       "        text-align: right;\n",
       "    }\n",
       "</style>\n",
       "<table border=\"1\" class=\"dataframe\">\n",
       "  <thead>\n",
       "    <tr style=\"text-align: right;\">\n",
       "      <th></th>\n",
       "      <th>player_api_id</th>\n",
       "      <th>player_name</th>\n",
       "      <th>overall_rating</th>\n",
       "      <th>player_overall_score</th>\n",
       "      <th>player_ideal_body_rate</th>\n",
       "    </tr>\n",
       "  </thead>\n",
       "  <tbody>\n",
       "    <tr>\n",
       "      <th>0</th>\n",
       "      <td>505942</td>\n",
       "      <td>Aaron Appindangoye</td>\n",
       "      <td>67</td>\n",
       "      <td>49.852941</td>\n",
       "      <td>55.912535</td>\n",
       "    </tr>\n",
       "    <tr>\n",
       "      <th>1</th>\n",
       "      <td>155782</td>\n",
       "      <td>Aaron Cresswell</td>\n",
       "      <td>74</td>\n",
       "      <td>61.000000</td>\n",
       "      <td>50.412219</td>\n",
       "    </tr>\n",
       "    <tr>\n",
       "      <th>2</th>\n",
       "      <td>162549</td>\n",
       "      <td>Aaron Doran</td>\n",
       "      <td>65</td>\n",
       "      <td>53.794118</td>\n",
       "      <td>56.282135</td>\n",
       "    </tr>\n",
       "    <tr>\n",
       "      <th>3</th>\n",
       "      <td>30572</td>\n",
       "      <td>Aaron Galindo</td>\n",
       "      <td>69</td>\n",
       "      <td>48.029412</td>\n",
       "      <td>59.201507</td>\n",
       "    </tr>\n",
       "    <tr>\n",
       "      <th>4</th>\n",
       "      <td>23780</td>\n",
       "      <td>Aaron Hughes</td>\n",
       "      <td>70</td>\n",
       "      <td>46.264706</td>\n",
       "      <td>46.045617</td>\n",
       "    </tr>\n",
       "  </tbody>\n",
       "</table>\n",
       "</div>"
      ],
      "text/plain": [
       "   player_api_id         player_name  overall_rating  player_overall_score  \\\n",
       "0         505942  Aaron Appindangoye              67             49.852941   \n",
       "1         155782     Aaron Cresswell              74             61.000000   \n",
       "2         162549         Aaron Doran              65             53.794118   \n",
       "3          30572       Aaron Galindo              69             48.029412   \n",
       "4          23780        Aaron Hughes              70             46.264706   \n",
       "\n",
       "   player_ideal_body_rate  \n",
       "0               55.912535  \n",
       "1               50.412219  \n",
       "2               56.282135  \n",
       "3               59.201507  \n",
       "4               46.045617  "
      ]
     },
     "execution_count": 300,
     "metadata": {},
     "output_type": "execute_result"
    }
   ],
   "source": [
    "df_merged_player_table.head()"
   ]
  },
  {
   "attachments": {},
   "cell_type": "markdown",
   "metadata": {},
   "source": [
    "* This section was implimented before the df_merged_player_table now dont need this so i commented it"
   ]
  },
  {
   "cell_type": "code",
   "execution_count": 301,
   "metadata": {},
   "outputs": [],
   "source": [
    "# getting overall rating of player\n",
    "\n",
    "# player_overall_rating = pd.read_sql_query(\"select * from (select player_api_id , max(overall_rating) as overall_rating from Player_Attributes group by player_api_id) as p where p.overall_rating is not null\", conn)\n"
   ]
  },
  {
   "cell_type": "code",
   "execution_count": 302,
   "metadata": {},
   "outputs": [],
   "source": [
    "# player_overall_rating"
   ]
  },
  {
   "attachments": {},
   "cell_type": "markdown",
   "metadata": {},
   "source": [
    "* combining player overall rating value to match table with home and away player"
   ]
  },
  {
   "cell_type": "code",
   "execution_count": 303,
   "metadata": {},
   "outputs": [],
   "source": [
    "# for i in range(1,12):\n",
    "#     df_merged_all_table = df_merged_all_table.merge(player_overall_rating, how='left', left_on='home_player_' + str(i), right_on='player_api_id')\n",
    "#     df_merged_all_table = df_merged_all_table.drop(['home_player_' + str(i), \"player_api_id\"], axis=1)\n",
    "#     df_merged_all_table.columns.values[-1] = 'home_player_' + str(i) \n",
    "\n",
    "# for i in range(1,12):\n",
    "#     df_merged_all_table = df_merged_all_table.merge(player_overall_rating, how='left', left_on='away_player_' + str(i), right_on='player_api_id')\n",
    "#     df_merged_all_table = df_merged_all_table.drop(['away_player_' + str(i), \"player_api_id\"], axis=1)\n",
    "#     df_merged_all_table.columns.values[-1] = 'away_player_' + str(i) \n",
    "\n",
    "# df_merged_all_table = df_merged_all_table.drop([], axis=1)"
   ]
  },
  {
   "cell_type": "code",
   "execution_count": 304,
   "metadata": {},
   "outputs": [],
   "source": [
    "temp_list = \"season stage date home_team_api_id away_team_api_id home_player_X1 home_player_X2 home_player_X3 home_player_X4 home_player_X5 home_player_X6 home_player_X7 home_player_X8 home_player_X9 home_player_X10 home_player_X11 away_player_X1 away_player_X2 away_player_X3 away_player_X4 away_player_X5 away_player_X6 away_player_X7 away_player_X8 away_player_X9 away_player_X10 away_player_X11 home_player_Y1 home_player_Y2 home_player_Y3 home_player_Y4 home_player_Y5 home_player_Y6 home_player_Y7 home_player_Y8 home_player_Y9 home_player_Y10 home_player_Y11 away_player_Y1 away_player_Y2 away_player_Y3 away_player_Y4 away_player_Y5 away_player_Y6 away_player_Y7 away_player_Y8 away_player_Y9 away_player_Y10 away_player_Y11\".split(\" \")"
   ]
  },
  {
   "cell_type": "code",
   "execution_count": 305,
   "metadata": {},
   "outputs": [
    {
     "data": {
      "text/plain": [
       "['season',\n",
       " 'stage',\n",
       " 'date',\n",
       " 'home_team_api_id',\n",
       " 'away_team_api_id',\n",
       " 'home_player_X1',\n",
       " 'home_player_X2',\n",
       " 'home_player_X3',\n",
       " 'home_player_X4',\n",
       " 'home_player_X5',\n",
       " 'home_player_X6',\n",
       " 'home_player_X7',\n",
       " 'home_player_X8',\n",
       " 'home_player_X9',\n",
       " 'home_player_X10',\n",
       " 'home_player_X11',\n",
       " 'away_player_X1',\n",
       " 'away_player_X2',\n",
       " 'away_player_X3',\n",
       " 'away_player_X4',\n",
       " 'away_player_X5',\n",
       " 'away_player_X6',\n",
       " 'away_player_X7',\n",
       " 'away_player_X8',\n",
       " 'away_player_X9',\n",
       " 'away_player_X10',\n",
       " 'away_player_X11',\n",
       " 'home_player_Y1',\n",
       " 'home_player_Y2',\n",
       " 'home_player_Y3',\n",
       " 'home_player_Y4',\n",
       " 'home_player_Y5',\n",
       " 'home_player_Y6',\n",
       " 'home_player_Y7',\n",
       " 'home_player_Y8',\n",
       " 'home_player_Y9',\n",
       " 'home_player_Y10',\n",
       " 'home_player_Y11',\n",
       " 'away_player_Y1',\n",
       " 'away_player_Y2',\n",
       " 'away_player_Y3',\n",
       " 'away_player_Y4',\n",
       " 'away_player_Y5',\n",
       " 'away_player_Y6',\n",
       " 'away_player_Y7',\n",
       " 'away_player_Y8',\n",
       " 'away_player_Y9',\n",
       " 'away_player_Y10',\n",
       " 'away_player_Y11']"
      ]
     },
     "execution_count": 305,
     "metadata": {},
     "output_type": "execute_result"
    }
   ],
   "source": [
    "temp_list"
   ]
  },
  {
   "cell_type": "code",
   "execution_count": 306,
   "metadata": {},
   "outputs": [
    {
     "data": {
      "text/plain": [
       "Index(['season', 'stage', 'date', 'match_api_id', 'home_team_api_id',\n",
       "       'away_team_api_id', 'home_team_goal', 'away_team_goal',\n",
       "       'home_player_X1', 'home_player_X2',\n",
       "       ...\n",
       "       'BSD', 'BSA', 'league_name', 'country_name', 'team_api_id',\n",
       "       'team_long_name', 'team_short_name', 'team_overall_score',\n",
       "       'home_total_goal', 'away_total_goal'],\n",
       "      dtype='object', length=120)"
      ]
     },
     "execution_count": 306,
     "metadata": {},
     "output_type": "execute_result"
    }
   ],
   "source": [
    "df_merged_all_table.columns"
   ]
  },
  {
   "attachments": {},
   "cell_type": "markdown",
   "metadata": {},
   "source": []
  },
  {
   "cell_type": "code",
   "execution_count": 307,
   "metadata": {},
   "outputs": [],
   "source": [
    "df_merged_all_table = df_merged_all_table.drop(columns= temp_list)"
   ]
  },
  {
   "cell_type": "code",
   "execution_count": 308,
   "metadata": {},
   "outputs": [
    {
     "data": {
      "text/plain": [
       "Index(['match_api_id', 'home_team_goal', 'away_team_goal', 'home_player_1',\n",
       "       'home_player_2', 'home_player_3', 'home_player_4', 'home_player_5',\n",
       "       'home_player_6', 'home_player_7', 'home_player_8', 'home_player_9',\n",
       "       'home_player_10', 'home_player_11', 'away_player_1', 'away_player_2',\n",
       "       'away_player_3', 'away_player_4', 'away_player_5', 'away_player_6',\n",
       "       'away_player_7', 'away_player_8', 'away_player_9', 'away_player_10',\n",
       "       'away_player_11', 'goal', 'shoton', 'shotoff', 'foulcommit', 'card',\n",
       "       'cross', 'corner', 'possession', 'B365H', 'B365D', 'B365A', 'BWH',\n",
       "       'BWD', 'BWA', 'IWH', 'IWD', 'IWA', 'LBH', 'LBD', 'LBA', 'PSH', 'PSD',\n",
       "       'PSA', 'WHH', 'WHD', 'WHA', 'SJH', 'SJD', 'SJA', 'VCH', 'VCD', 'VCA',\n",
       "       'GBH', 'GBD', 'GBA', 'BSH', 'BSD', 'BSA', 'league_name', 'country_name',\n",
       "       'team_api_id', 'team_long_name', 'team_short_name',\n",
       "       'team_overall_score', 'home_total_goal', 'away_total_goal'],\n",
       "      dtype='object')"
      ]
     },
     "execution_count": 308,
     "metadata": {},
     "output_type": "execute_result"
    }
   ],
   "source": [
    "df_merged_all_table.columns"
   ]
  },
  {
   "attachments": {},
   "cell_type": "markdown",
   "metadata": {},
   "source": [
    "# Merging player merged table with main merged table"
   ]
  },
  {
   "cell_type": "code",
   "execution_count": 309,
   "metadata": {},
   "outputs": [],
   "source": [
    "for i in range(1,12):\n",
    "    df_merged_all_table = df_merged_all_table.merge(df_merged_player_table, how='left', left_on=['home_player_' + str(i)], right_on=['player_api_id'])\n",
    "    df_merged_all_table = df_merged_all_table.drop(['home_player_' + str(i), \"player_api_id\", \"player_name\"], axis=1)\n",
    "    df_merged_all_table.columns.values[-1] = 'home_player_' + str(i) + \"_ideal_body_rate\"\n",
    "    df_merged_all_table.columns.values[-2] = 'home_player_' + str(i) + \"_overall_score\"\n",
    "    df_merged_all_table.columns.values[-3] = 'home_player_' + str(i) + \"_overall_rating\"\n",
    "\n",
    "for i in range(1,12):\n",
    "    df_merged_all_table = df_merged_all_table.merge(df_merged_player_table, how='left', left_on=['away_player_' + str(i)], right_on=['player_api_id'])\n",
    "    df_merged_all_table = df_merged_all_table.drop(['away_player_' + str(i), \"player_api_id\", \"player_name\"], axis=1)\n",
    "    df_merged_all_table.columns.values[-1] = 'away_player_' + str(i) + \"_ideal_body_rate\"\n",
    "    df_merged_all_table.columns.values[-2] = 'away_player_' + str(i) + \"_overall_score\"\n",
    "    df_merged_all_table.columns.values[-3] = 'away_player_' + str(i) + \"_overall_rating\"\n",
    "\n"
   ]
  },
  {
   "cell_type": "code",
   "execution_count": 310,
   "metadata": {},
   "outputs": [
    {
     "data": {
      "text/plain": [
       "Index(['match_api_id', 'home_team_goal', 'away_team_goal', 'goal', 'shoton',\n",
       "       'shotoff', 'foulcommit', 'card', 'cross', 'corner',\n",
       "       ...\n",
       "       'away_player_8_ideal_body_rate', 'away_player_9_overall_rating',\n",
       "       'away_player_9_overall_score', 'away_player_9_ideal_body_rate',\n",
       "       'away_player_10_overall_rating', 'away_player_10_overall_score',\n",
       "       'away_player_10_ideal_body_rate', 'away_player_11_overall_rating',\n",
       "       'away_player_11_overall_score', 'away_player_11_ideal_body_rate'],\n",
       "      dtype='object', length=115)"
      ]
     },
     "execution_count": 310,
     "metadata": {},
     "output_type": "execute_result"
    }
   ],
   "source": [
    "df_merged_all_table.columns"
   ]
  },
  {
   "attachments": {},
   "cell_type": "markdown",
   "metadata": {},
   "source": [
    "* performing imputation\n",
    "\n",
    "* note:- need to take opinion of all group memeber on this imputation"
   ]
  },
  {
   "cell_type": "code",
   "execution_count": 311,
   "metadata": {},
   "outputs": [],
   "source": [
    "# import the KNNimputer class\n",
    "from sklearn.impute import KNNImputer\n",
    "\n",
    "imputer = KNNImputer(n_neighbors=2)"
   ]
  },
  {
   "cell_type": "code",
   "execution_count": 312,
   "metadata": {},
   "outputs": [],
   "source": [
    "# getting player table based on mean\n",
    "col_list = []\n",
    "skip_count = 0\n",
    "for i in df_merged_all_table.columns:\n",
    "    skip_count += 1\n",
    "    if skip_count > 49:\n",
    "        col_list.append(i)\n",
    "\n",
    "imputed_table = imputer.fit_transform(df_merged_all_table[col_list])\n",
    "\n",
    "imputed_table = pd.DataFrame(imputed_table)\n",
    "\n",
    "home_players_avg_overall_rating = imputed_table[[0, 3, 6, 9, 12, 15, 18, 21, 24, 27, 30]].mean(axis=1)\n",
    "home_players_avg_overall_score = imputed_table[[1, 4, 7, 10, 13, 16, 19, 22, 25, 28, 31]].mean(axis=1)\n",
    "home_players_avg_ideal_body_rate = imputed_table[[2, 5, 8, 11, 14, 17, 20, 23, 26, 29, 33]].mean(axis=1)\n",
    "\n",
    "away_players_avg_overall_rating = imputed_table[[34, 37, 40, 43, 46, 49, 52, 55, 58, 61, 63]].mean(axis=1)\n",
    "away_players_avg_overall_score = imputed_table[[35, 38, 41, 44, 47, 50, 53, 56, 59, 62, 64]].mean(axis=1)\n",
    "away_players_avg_ideal_body_rate = imputed_table[[36, 39, 42, 45, 48, 51, 54, 57, 60, 63, 65]].mean(axis=1)\n",
    "\n",
    "df_merged_all_table = df_merged_all_table.drop(columns=col_list)\n",
    "\n",
    "df_merged_all_table[\"home_players_avg_overall_rating\"] = home_players_avg_overall_rating\n",
    "df_merged_all_table[\"home_players_avg_overall_score\"] = home_players_avg_overall_score\n",
    "df_merged_all_table[\"home_players_avg_ideal_body_rate\"] = home_players_avg_ideal_body_rate\n",
    "df_merged_all_table[\"away_players_avg_overall_rating\"] = away_players_avg_overall_rating\n",
    "df_merged_all_table[\"away_players_avg_overall_score\"] = away_players_avg_overall_score\n",
    "df_merged_all_table[\"away_players_avg_ideal_body_rate\"] = away_players_avg_ideal_body_rate"
   ]
  },
  {
   "cell_type": "code",
   "execution_count": 313,
   "metadata": {},
   "outputs": [
    {
     "data": {
      "text/plain": [
       "(25979, 55)"
      ]
     },
     "execution_count": 313,
     "metadata": {},
     "output_type": "execute_result"
    }
   ],
   "source": [
    "df_merged_all_table.shape"
   ]
  },
  {
   "attachments": {},
   "cell_type": "markdown",
   "metadata": {},
   "source": [
    "# Remaining work"
   ]
  },
  {
   "cell_type": "code",
   "execution_count": 314,
   "metadata": {},
   "outputs": [],
   "source": [
    "# TODO: need to do something about batting odds and home and away player postion"
   ]
  },
  {
   "attachments": {},
   "cell_type": "markdown",
   "metadata": {},
   "source": [
    "# Generating Target Variable"
   ]
  },
  {
   "cell_type": "code",
   "execution_count": 315,
   "metadata": {},
   "outputs": [],
   "source": [
    "# generating target variable\n",
    "def get_match_label(match):\n",
    "    home_goals = match['home_team_goal']\n",
    "    away_goals = match['away_team_goal']\n",
    "    #Identify match label\n",
    "    if home_goals > away_goals:\n",
    "        return \"HomeWin\"\n",
    "    elif home_goals == away_goals:\n",
    "        return \"Draw\"\n",
    "    elif home_goals < away_goals:\n",
    "        return \"AwayWin\"\n",
    "\n",
    "df_merged_all_table['target'] = df_merged_all_table.apply(get_match_label, axis=1)"
   ]
  },
  {
   "cell_type": "code",
   "execution_count": 316,
   "metadata": {},
   "outputs": [
    {
     "data": {
      "text/plain": [
       "Index(['match_api_id', 'goal', 'shoton', 'shotoff', 'foulcommit', 'card',\n",
       "       'cross', 'corner', 'possession', 'B365H', 'B365D', 'B365A', 'BWH',\n",
       "       'BWD', 'BWA', 'IWH', 'IWD', 'IWA', 'LBH', 'LBD', 'LBA', 'PSH', 'PSD',\n",
       "       'PSA', 'WHH', 'WHD', 'WHA', 'SJH', 'SJD', 'SJA', 'VCH', 'VCD', 'VCA',\n",
       "       'GBH', 'GBD', 'GBA', 'BSH', 'BSD', 'BSA', 'league_name', 'country_name',\n",
       "       'team_api_id', 'team_long_name', 'team_short_name',\n",
       "       'team_overall_score', 'home_total_goal', 'away_total_goal',\n",
       "       'home_players_avg_overall_rating', 'home_players_avg_overall_score',\n",
       "       'home_players_avg_ideal_body_rate', 'away_players_avg_overall_rating',\n",
       "       'away_players_avg_overall_score', 'away_players_avg_ideal_body_rate',\n",
       "       'target'],\n",
       "      dtype='object')"
      ]
     },
     "execution_count": 316,
     "metadata": {},
     "output_type": "execute_result"
    }
   ],
   "source": [
    "# droping columns with contains id (Converting n3 form to n1 form)\n",
    "df_merged_all_table = df_merged_all_table.drop(['home_team_goal',\n",
    "       'away_team_goal'], axis=1)\n",
    "\n",
    "df_merged_all_table.columns"
   ]
  },
  {
   "attachments": {},
   "cell_type": "markdown",
   "metadata": {},
   "source": [
    "# Converting dataframe into pickle file for modeling"
   ]
  },
  {
   "cell_type": "code",
   "execution_count": 318,
   "metadata": {},
   "outputs": [],
   "source": [
    "# Converting dataframe into pickle for modeling\n",
    "\n",
    "# df_merged_all_table.to_pickle('merged_all_table' + \".pkl\", compression=\"bz2\")\n",
    "# df_merged_all_table.to_csv( 'merged_all_table.csv',index=False)"
   ]
  }
 ],
 "metadata": {
  "kernelspec": {
   "display_name": "Python 3",
   "language": "python",
   "name": "python3"
  },
  "language_info": {
   "codemirror_mode": {
    "name": "ipython",
    "version": 3
   },
   "file_extension": ".py",
   "mimetype": "text/x-python",
   "name": "python",
   "nbconvert_exporter": "python",
   "pygments_lexer": "ipython3",
   "version": "3.9.6"
  },
  "orig_nbformat": 4
 },
 "nbformat": 4,
 "nbformat_minor": 2
}
