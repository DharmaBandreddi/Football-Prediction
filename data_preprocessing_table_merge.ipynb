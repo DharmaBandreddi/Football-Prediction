{
 "cells": [
  {
   "cell_type": "code",
   "execution_count": 21,
   "metadata": {},
   "outputs": [],
   "source": [
    "import sqlite3\n",
    "import pandas as pd"
   ]
  },
  {
   "cell_type": "code",
   "execution_count": 22,
   "metadata": {},
   "outputs": [],
   "source": [
    "# Created connection.\n",
    "database_path = r\"database.sqlite\"\n",
    "\n",
    "conn = sqlite3.connect(database_path)"
   ]
  },
  {
   "cell_type": "code",
   "execution_count": 23,
   "metadata": {},
   "outputs": [],
   "source": [
    "# Creating dataframes from the tbales\n",
    "\n",
    "df_country = pd.read_sql_query(\"SELECT * FROM country\", conn)\n",
    "df_league = pd.read_sql_query(\"SELECT * FROM league\", conn)\n",
    "df_match = pd.read_sql_query(\"SELECT * FROM match\", conn)\n",
    "df_player = pd.read_sql_query(\"SELECT * FROM player\", conn)\n",
    "df_player_attributes = pd.read_sql_query(\"SELECT * FROM player_attributes\", conn)\n",
    "df_team = pd.read_sql_query(\"SELECT * FROM team\", conn)\n",
    "df_team_attributes = pd.read_sql_query(\"SELECT * FROM team_attributes\", conn)\n",
    "df_sqlite_sequence = pd.read_sql_query(\"SELECT * FROM sqlite_sequence\", conn)\n"
   ]
  },
  {
   "cell_type": "code",
   "execution_count": 24,
   "metadata": {},
   "outputs": [],
   "source": [
    "# Deleting Duplicate values from the table\n",
    "\n",
    "df_country = df_country.drop_duplicates()\n",
    "df_league = df_league.drop_duplicates()\n",
    "df_match = df_match.drop_duplicates()\n",
    "df_player = df_player.drop_duplicates()\n",
    "df_player_attributes = df_player_attributes.drop_duplicates()\n",
    "df_team = df_team.drop_duplicates()\n",
    "df_team_attributes = df_team_attributes.drop_duplicates()\n",
    "df_sqlite_sequence = df_sqlite_sequence.drop_duplicates()"
   ]
  },
  {
   "cell_type": "code",
   "execution_count": 25,
   "metadata": {},
   "outputs": [],
   "source": [
    "# Concate all the tables in one\n",
    "# Note: removed and merged by analyzed the all table relationship by zeel. so, before making change make sure to communicate eith zeel\n",
    "\n",
    "# merging country table\n",
    "df_merged_all_table = pd.merge(left=df_league, right=df_country, how='outer', left_on='country_id', right_on='id')\n",
    "df_merged_all_table = df_merged_all_table.drop([\"id_x\", \"country_id\"], axis=1)\n",
    "df_merged_all_table.columns.values[0] = \"league_name\"\n",
    "df_merged_all_table.columns.values[1] = \"league_id\"\n",
    "df_merged_all_table.columns.values[2] = \"country_name\"\n",
    "\n",
    "# -----------------------------------------------------------------\n",
    "\n",
    "# merging league table\n",
    "df_merged_all_table = df_match.merge(df_merged_all_table, how='outer', left_on='league_id', right_on='league_id')\n",
    "df_merged_all_table = df_merged_all_table.drop([\"league_id\", \"country_id\"], axis=1)\n",
    "df_merged_all_table.columns.values[0] = \"match_id\" \n",
    "df_merged_all_table = df_merged_all_table.drop([\"match_id\"], axis=1)\n",
    "\n",
    "# -----------------------------------------------------------------\n",
    "\n",
    "# merging team_attribute table with team table\n",
    "df_merged_team_table = pd.merge(left=df_team, right=df_team_attributes, how='outer', left_on=['team_api_id'], right_on=['team_api_id'])\n",
    "df_merged_team_table = df_merged_team_table.drop([\"id_x\", \"id_y\", \"team_fifa_api_id_y\"], axis=1)\n",
    "df_merged_team_table.columns.values[1] = \"team_fifa_api_id\" \n",
    "\n",
    "df_merged_team_table.drop_duplicates()\n",
    "\n",
    "# -----------------------------------------------------------------\n",
    "\n",
    "# merging merged team table\n",
    "df_merged_all_table = df_merged_all_table.merge(df_merged_team_table, how='outer', left_on=['home_team_api_id'], right_on=['team_api_id'])\n",
    "df_merged_all_table = df_merged_all_table.drop([\"date_y\"], axis=1)\n",
    "df_merged_all_table.columns.values[2] = \"date\" \n",
    "df_merged_all_table = df_merged_all_table.merge(df_merged_team_table, how='outer', left_on=['away_team_api_id'], right_on=['team_api_id'])\n",
    "df_merged_all_table.columns.values[2] = \"date\" \n",
    "\n",
    "for i in range(26):\n",
    "    df_merged_all_table = df_merged_all_table.drop([df_merged_all_table.columns[-1]], axis=1)\n",
    "\n",
    "for i in range(26):\n",
    "    df_merged_all_table.columns.values[-1 - i] = df_merged_all_table.columns[-1 - i].split(\"_x\")[0]\n",
    "\n",
    "# -----------------------------------------------------------------\n",
    "\n",
    "# merging player_attribute table with player table\n",
    "df_merged_player_table = pd.merge(left=df_player, right=df_player_attributes, how='outer', left_on=['player_api_id'], right_on=['player_api_id'])\n",
    "df_merged_player_table = df_merged_player_table.drop([\"id_x\", \"id_y\", \"player_fifa_api_id_y\"], axis=1)\n",
    "df_merged_player_table.columns.values[2] = \"player_fifa_api_id\" \n",
    "\n",
    "df_merged_player_table.drop_duplicates() \n",
    "\n",
    "# -----------------------------------------------------------------\n",
    "\n",
    "df_merged_all_table.drop_duplicates(inplace=True)"
   ]
  },
  {
   "cell_type": "code",
   "execution_count": null,
   "metadata": {},
   "outputs": [],
   "source": [
    "# Converting dataframe into csv for modeling\n",
    "\n",
    "df_merged_all_table.to_csv('merged_all_table.csv', encoding='utf-8', index=False)\n",
    "df_merged_player_table.to_csv('merged_player_table.csv', encoding='utf-8', index=False)"
   ]
  }
 ],
 "metadata": {
  "kernelspec": {
   "display_name": "Python 3",
   "language": "python",
   "name": "python3"
  },
  "language_info": {
   "codemirror_mode": {
    "name": "ipython",
    "version": 3
   },
   "file_extension": ".py",
   "mimetype": "text/x-python",
   "name": "python",
   "nbconvert_exporter": "python",
   "pygments_lexer": "ipython3",
   "version": "3.9.6"
  },
  "orig_nbformat": 4
 },
 "nbformat": 4,
 "nbformat_minor": 2
}
